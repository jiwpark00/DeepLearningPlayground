{
  "nbformat": 4,
  "nbformat_minor": 0,
  "metadata": {
    "colab": {
      "name": "Word Embeddings from word2vec and GloVe Exercises.ipynb",
      "provenance": []
    },
    "kernelspec": {
      "name": "python3",
      "display_name": "Python 3"
    },
    "language_info": {
      "name": "python"
    }
  },
  "cells": [
    {
      "cell_type": "code",
      "execution_count": 1,
      "metadata": {
        "id": "hXdOpfLzxhTd"
      },
      "outputs": [],
      "source": [
        "# Adapted from Chapter 13 in LDL\n",
        "# Note that technically this is NOT a part of deep learning but still very relevant for NLP perspective (which is largely influenced by neural networks)"
      ]
    },
    {
      "cell_type": "code",
      "source": [
        "!wget http://nlp.stanford.edu/data/glove.6B.zip\n",
        "!unzip -q glove.6B.zip"
      ],
      "metadata": {
        "colab": {
          "base_uri": "https://localhost:8080/"
        },
        "id": "nrkMP3hrxmNk",
        "outputId": "68914c27-e43c-4ede-e18b-209fc1dad3e7"
      },
      "execution_count": 4,
      "outputs": [
        {
          "output_type": "stream",
          "name": "stdout",
          "text": [
            "--2022-08-27 00:54:51--  http://nlp.stanford.edu/data/glove.6B.zip\n",
            "Resolving nlp.stanford.edu (nlp.stanford.edu)... 171.64.67.140\n",
            "Connecting to nlp.stanford.edu (nlp.stanford.edu)|171.64.67.140|:80... connected.\n",
            "HTTP request sent, awaiting response... 302 Found\n",
            "Location: https://nlp.stanford.edu/data/glove.6B.zip [following]\n",
            "--2022-08-27 00:54:51--  https://nlp.stanford.edu/data/glove.6B.zip\n",
            "Connecting to nlp.stanford.edu (nlp.stanford.edu)|171.64.67.140|:443... connected.\n",
            "HTTP request sent, awaiting response... 301 Moved Permanently\n",
            "Location: https://downloads.cs.stanford.edu/nlp/data/glove.6B.zip [following]\n",
            "--2022-08-27 00:54:51--  https://downloads.cs.stanford.edu/nlp/data/glove.6B.zip\n",
            "Resolving downloads.cs.stanford.edu (downloads.cs.stanford.edu)... 171.64.64.22\n",
            "Connecting to downloads.cs.stanford.edu (downloads.cs.stanford.edu)|171.64.64.22|:443... connected.\n",
            "HTTP request sent, awaiting response... 200 OK\n",
            "Length: 862182613 (822M) [application/zip]\n",
            "Saving to: ‘glove.6B.zip’\n",
            "\n",
            "glove.6B.zip        100%[===================>] 822.24M  5.02MB/s    in 2m 39s  \n",
            "\n",
            "2022-08-27 00:57:31 (5.16 MB/s) - ‘glove.6B.zip’ saved [862182613/862182613]\n",
            "\n"
          ]
        }
      ]
    },
    {
      "cell_type": "code",
      "source": [
        "import numpy as np\n",
        "import scipy.spatial\n",
        "\n",
        "# Read embeddings from file.\n",
        "def read_embeddings():\n",
        "  FILE_NAME = 'glove.6B.100d.txt'\n",
        "  embeddings = {}\n",
        "  file = open(FILE_NAME, 'r', encoding='utf-8')\n",
        "  for line in file:\n",
        "    values = line.split()\n",
        "    word = values[0]\n",
        "    vector = np.asarray(values[1:], dtype='float32')\n",
        "    embeddings[word] = vector\n",
        "  file.close()\n",
        "  print('Read %s embeddings. ' % len(embeddings))\n",
        "  return embeddings"
      ],
      "metadata": {
        "id": "DVgu2rMyyhcT"
      },
      "execution_count": 6,
      "outputs": []
    },
    {
      "cell_type": "code",
      "source": [
        "def print_n_closest(embeddings, vec0, n):\n",
        "  word_distances = {}\n",
        "  for (word, vec1) in embeddings.items():\n",
        "    distance = scipy.spatial.distance.cosine(vec1, vec0)\n",
        "    word_distances[distance] = word\n",
        "  # Print words sorted by distance\n",
        "  for distance in sorted(word_distances.keys())[:n]:\n",
        "    word = word_distances[distance]\n",
        "    print(word + ': %6.3f' % distance)"
      ],
      "metadata": {
        "id": "_CQX1VZezWvb"
      },
      "execution_count": 7,
      "outputs": []
    },
    {
      "cell_type": "code",
      "source": [
        "embeddings = read_embeddings()"
      ],
      "metadata": {
        "colab": {
          "base_uri": "https://localhost:8080/"
        },
        "id": "Wgj8KOeY0oIk",
        "outputId": "9fb63f7d-c564-4b4d-ad44-dceaf3b1fb8f"
      },
      "execution_count": 8,
      "outputs": [
        {
          "output_type": "stream",
          "name": "stdout",
          "text": [
            "Read 400000 embeddings. \n"
          ]
        }
      ]
    },
    {
      "cell_type": "code",
      "source": [
        "lookup_word = 'hello'\n",
        "print('\\nWords closest to ' + lookup_word)\n",
        "print_n_closest(embeddings, embeddings[lookup_word],3)"
      ],
      "metadata": {
        "colab": {
          "base_uri": "https://localhost:8080/"
        },
        "id": "FftxLCdF1GZK",
        "outputId": "358b8bf8-3993-4a16-f0f8-1f7e4ba3f398"
      },
      "execution_count": 9,
      "outputs": [
        {
          "output_type": "stream",
          "name": "stdout",
          "text": [
            "\n",
            "Words closest to hello\n",
            "hello:  0.000\n",
            "goodbye:  0.209\n",
            "hey:  0.283\n"
          ]
        }
      ]
    },
    {
      "cell_type": "code",
      "source": [
        "embeddings[lookup_word]"
      ],
      "metadata": {
        "colab": {
          "base_uri": "https://localhost:8080/"
        },
        "id": "q97AFYYQ1OO2",
        "outputId": "98e587cd-2d39-4e00-a3dd-07787353d84c"
      },
      "execution_count": 10,
      "outputs": [
        {
          "output_type": "execute_result",
          "data": {
            "text/plain": [
              "array([ 0.26688  ,  0.39632  ,  0.6169   , -0.77451  , -0.1039   ,\n",
              "        0.26697  ,  0.2788   ,  0.30992  ,  0.0054685, -0.085256 ,\n",
              "        0.73602  , -0.098432 ,  0.5479   , -0.030305 ,  0.33479  ,\n",
              "        0.14094  , -0.0070003,  0.32569  ,  0.22902  ,  0.46557  ,\n",
              "       -0.19531  ,  0.37491  , -0.7139   , -0.51775  ,  0.77039  ,\n",
              "        1.0881   , -0.66011  , -0.16234  ,  0.9119   ,  0.21046  ,\n",
              "        0.047494 ,  1.0019   ,  1.1133   ,  0.70094  , -0.08696  ,\n",
              "        0.47571  ,  0.1636   , -0.44469  ,  0.4469   , -0.93817  ,\n",
              "        0.013101 ,  0.085964 , -0.67456  ,  0.49662  , -0.037827 ,\n",
              "       -0.11038  , -0.28612  ,  0.074606 , -0.31527  , -0.093774 ,\n",
              "       -0.57069  ,  0.66865  ,  0.45307  , -0.34154  , -0.7166   ,\n",
              "       -0.75273  ,  0.075212 ,  0.57903  , -0.1191   , -0.11379  ,\n",
              "       -0.10026  ,  0.71341  , -1.1574   , -0.74026  ,  0.40452  ,\n",
              "        0.18023  ,  0.21449  ,  0.37638  ,  0.11239  , -0.53639  ,\n",
              "       -0.025092 ,  0.31886  , -0.25013  , -0.63283  , -0.011843 ,\n",
              "        1.377    ,  0.86013  ,  0.20476  , -0.36815  , -0.68874  ,\n",
              "        0.53512  , -0.46556  ,  0.27389  ,  0.4118   , -0.854    ,\n",
              "       -0.046288 ,  0.11304  , -0.27326  ,  0.15636  , -0.20334  ,\n",
              "        0.53586  ,  0.59784  ,  0.60469  ,  0.13735  ,  0.42232  ,\n",
              "       -0.61279  , -0.38486  ,  0.35842  , -0.48464  ,  0.30728  ],\n",
              "      dtype=float32)"
            ]
          },
          "metadata": {},
          "execution_count": 10
        }
      ]
    },
    {
      "cell_type": "code",
      "source": [
        "len(embeddings[lookup_word])"
      ],
      "metadata": {
        "colab": {
          "base_uri": "https://localhost:8080/"
        },
        "id": "luV9Ofxi1P3y",
        "outputId": "6c6821a1-4cc4-44f2-ec6f-19d1b3274f82"
      },
      "execution_count": 11,
      "outputs": [
        {
          "output_type": "execute_result",
          "data": {
            "text/plain": [
              "100"
            ]
          },
          "metadata": {},
          "execution_count": 11
        }
      ]
    },
    {
      "cell_type": "code",
      "source": [
        "lookup_word = 'precisely'\n",
        "print('\\nWords closest to ' + lookup_word)\n",
        "print_n_closest(embeddings, embeddings[lookup_word],3)"
      ],
      "metadata": {
        "colab": {
          "base_uri": "https://localhost:8080/"
        },
        "id": "U-UTyOFY1gFn",
        "outputId": "266a529c-dbe8-4045-93a0-5b61c58b4894"
      },
      "execution_count": 12,
      "outputs": [
        {
          "output_type": "stream",
          "name": "stdout",
          "text": [
            "\n",
            "Words closest to precisely\n",
            "precisely:  0.000\n",
            "exactly:  0.147\n",
            "accurately:  0.293\n"
          ]
        }
      ]
    },
    {
      "cell_type": "code",
      "source": [
        "lookup_word = 'dog'\n",
        "print('\\nWords closest to ' + lookup_word)\n",
        "print_n_closest(embeddings, embeddings[lookup_word],3)"
      ],
      "metadata": {
        "colab": {
          "base_uri": "https://localhost:8080/"
        },
        "id": "SJX3TXl81leU",
        "outputId": "9667b660-0dcb-4174-c030-acec700cd66f"
      },
      "execution_count": 13,
      "outputs": [
        {
          "output_type": "stream",
          "name": "stdout",
          "text": [
            "\n",
            "Words closest to dog\n",
            "dog:  0.000\n",
            "cat:  0.120\n",
            "dogs:  0.166\n"
          ]
        }
      ]
    },
    {
      "cell_type": "code",
      "source": [
        "lookup_word = 'sad'\n",
        "print('\\nWords closest to ' + lookup_word)\n",
        "print_n_closest(embeddings, embeddings[lookup_word],10)"
      ],
      "metadata": {
        "colab": {
          "base_uri": "https://localhost:8080/"
        },
        "id": "ZSVXCCKX1m2N",
        "outputId": "29161bc0-6411-4710-cd4d-ec6d84e58882"
      },
      "execution_count": 14,
      "outputs": [
        {
          "output_type": "stream",
          "name": "stdout",
          "text": [
            "\n",
            "Words closest to sad\n",
            "sad:  0.000\n",
            "sorry:  0.245\n",
            "awful:  0.272\n",
            "tragic:  0.276\n",
            "horrible:  0.295\n",
            "happy:  0.320\n",
            "heartbreaking:  0.324\n",
            "poignant:  0.328\n",
            "scary:  0.330\n",
            "terrible:  0.333\n"
          ]
        }
      ]
    },
    {
      "cell_type": "code",
      "source": [
        "lookup_word = 'hamburger'\n",
        "print('\\nWords closest to ' + lookup_word)\n",
        "print_n_closest(embeddings, embeddings[lookup_word],5)"
      ],
      "metadata": {
        "colab": {
          "base_uri": "https://localhost:8080/"
        },
        "id": "80Y38D5G1or0",
        "outputId": "3f69c58a-c916-43c4-d96f-f69c14348186"
      },
      "execution_count": 17,
      "outputs": [
        {
          "output_type": "stream",
          "name": "stdout",
          "text": [
            "\n",
            "Words closest to hamburger\n",
            "hamburger:  0.000\n",
            "burger:  0.350\n",
            "pizza:  0.417\n",
            "burgers:  0.425\n",
            "meat:  0.426\n"
          ]
        }
      ]
    },
    {
      "cell_type": "code",
      "source": [
        "# We can also do word vector arithmetic\n",
        "lookup_word = 'king'\n",
        "print('\\nWords closest to ' + lookup_word)\n",
        "print_n_closest(embeddings, embeddings[lookup_word],3)\n",
        "\n",
        "lookup_word = '(king - man + woman'\n",
        "print('\\nWords closest to ' + lookup_word)\n",
        "vec = embeddings['king'] - embeddings['man'] + embeddings['woman']\n",
        "print_n_closest(embeddings, vec,3)"
      ],
      "metadata": {
        "colab": {
          "base_uri": "https://localhost:8080/"
        },
        "id": "qKPJS-h_1vVv",
        "outputId": "c5034355-b363-4c43-bb55-a8c404c92306"
      },
      "execution_count": 16,
      "outputs": [
        {
          "output_type": "stream",
          "name": "stdout",
          "text": [
            "\n",
            "Words closest to king\n",
            "king:  0.000\n",
            "prince:  0.232\n",
            "queen:  0.249\n",
            "\n",
            "Words closest to (king - man + woman\n",
            "king:  0.145\n",
            "queen:  0.217\n",
            "monarch:  0.307\n"
          ]
        }
      ]
    },
    {
      "cell_type": "code",
      "source": [
        "# Let's try another example\n",
        "lookup_word = '(hunger - lethargy + sleep'\n",
        "print('\\nWords closest to ' + lookup_word)\n",
        "vec = embeddings['hunger'] - embeddings['lethargy'] + embeddings['sleep']\n",
        "print_n_closest(embeddings, vec,3)"
      ],
      "metadata": {
        "colab": {
          "base_uri": "https://localhost:8080/"
        },
        "id": "O9Ea9dDK2A3b",
        "outputId": "912ea24b-cc86-460a-93bb-82896d531194"
      },
      "execution_count": 20,
      "outputs": [
        {
          "output_type": "stream",
          "name": "stdout",
          "text": [
            "\n",
            "Words closest to (hunger - lethargy + sleep\n",
            "hunger:  0.222\n",
            "sleep:  0.237\n",
            "dying:  0.313\n"
          ]
        }
      ]
    },
    {
      "cell_type": "code",
      "source": [
        "# Back to the example from the book - but with more words output [default was 3]\n",
        "lookup_word = 'sweden'\n",
        "print('\\nWords closest to ' + lookup_word)\n",
        "print_n_closest(embeddings, embeddings[lookup_word],7)\n",
        "\n",
        "lookup_word = 'madrid'\n",
        "print('\\nWords closest to ' + lookup_word)\n",
        "print_n_closest(embeddings, embeddings[lookup_word],7)\n",
        "\n",
        "lookup_word = '(madrid - spain + sweden'\n",
        "print('\\nWords closest to ' + lookup_word)\n",
        "vec = embeddings['madrid'] - embeddings['spain'] + embeddings['sweden']\n",
        "print_n_closest(embeddings, vec,7)"
      ],
      "metadata": {
        "colab": {
          "base_uri": "https://localhost:8080/"
        },
        "id": "xXDwHf3T2mX6",
        "outputId": "961ed202-b0b7-47ae-c935-45b37203284b"
      },
      "execution_count": 22,
      "outputs": [
        {
          "output_type": "stream",
          "name": "stdout",
          "text": [
            "\n",
            "Words closest to sweden\n",
            "sweden:  0.000\n",
            "denmark:  0.138\n",
            "norway:  0.193\n",
            "finland:  0.209\n",
            "netherlands:  0.253\n",
            "austria:  0.253\n",
            "switzerland:  0.277\n",
            "\n",
            "Words closest to madrid\n",
            "madrid:  0.000\n",
            "barcelona:  0.157\n",
            "valencia:  0.197\n",
            "milan:  0.276\n",
            "spain:  0.292\n",
            "bilbao:  0.292\n",
            "sevilla:  0.317\n",
            "\n",
            "Words closest to (madrid - spain + sweden\n",
            "stockholm:  0.271\n",
            "sweden:  0.300\n",
            "copenhagen:  0.305\n",
            "munich:  0.336\n",
            "hamburg:  0.355\n",
            "oslo:  0.358\n",
            "dortmund:  0.369\n"
          ]
        }
      ]
    },
    {
      "cell_type": "code",
      "source": [],
      "metadata": {
        "id": "6Sqn-Hax3G9B"
      },
      "execution_count": null,
      "outputs": []
    }
  ]
}