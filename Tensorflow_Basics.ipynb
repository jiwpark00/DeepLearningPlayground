{
  "nbformat": 4,
  "nbformat_minor": 0,
  "metadata": {
    "colab": {
      "name": "Tensorflow Basics.ipynb",
      "provenance": []
    },
    "kernelspec": {
      "name": "python3",
      "display_name": "Python 3"
    },
    "language_info": {
      "name": "python"
    },
    "accelerator": "GPU",
    "gpuClass": "standard"
  },
  "cells": [
    {
      "cell_type": "code",
      "execution_count": 1,
      "metadata": {
        "id": "LIhy-dFRK5Ks"
      },
      "outputs": [],
      "source": [
        "# Adapted from LDL Chapter 5"
      ]
    },
    {
      "cell_type": "code",
      "source": [
        "import tensorflow as tf\n",
        "from tensorflow import keras\n",
        "from tensorflow.keras.utils import to_categorical\n",
        "import numpy as np\n",
        "import logging"
      ],
      "metadata": {
        "id": "VOVrdPFTK-3-"
      },
      "execution_count": 2,
      "outputs": []
    },
    {
      "cell_type": "code",
      "source": [
        "tf.get_logger().setLevel(logging.ERROR)\n",
        "tf.random.set_seed(7)"
      ],
      "metadata": {
        "id": "nscfD9HsLEjK"
      },
      "execution_count": 3,
      "outputs": []
    },
    {
      "cell_type": "code",
      "source": [
        "EPOCHS = 20\n",
        "BATCH_SIZE = 1"
      ],
      "metadata": {
        "id": "2LsrPBf9LISO"
      },
      "execution_count": 4,
      "outputs": []
    },
    {
      "cell_type": "code",
      "source": [
        "# Loading training and test datasets\n",
        "mnist = keras.datasets.mnist\n",
        "(train_images, train_labels), (test_images, test_labels) = mnist.load_data()\n",
        "\n",
        "# Standardization of data\n",
        "mean = np.mean(train_images)\n",
        "stddev = np.std(train_images)\n",
        "\n",
        "train_images = (train_images - mean) / stddev\n",
        "test_images = (test_images - mean) / stddev"
      ],
      "metadata": {
        "colab": {
          "base_uri": "https://localhost:8080/"
        },
        "id": "9DRrWJRmLKT8",
        "outputId": "9495f948-c61a-4cea-ba94-20ced388fe23"
      },
      "execution_count": 5,
      "outputs": [
        {
          "output_type": "stream",
          "name": "stdout",
          "text": [
            "Downloading data from https://storage.googleapis.com/tensorflow/tf-keras-datasets/mnist.npz\n",
            "11493376/11490434 [==============================] - 0s 0us/step\n",
            "11501568/11490434 [==============================] - 0s 0us/step\n"
          ]
        }
      ]
    },
    {
      "cell_type": "code",
      "source": [
        "# One-hot encode labels\n",
        "train_labels = to_categorical(train_labels, num_classes=10)\n",
        "test_labels = to_categorical(test_labels, num_classes=10)"
      ],
      "metadata": {
        "id": "_CZ3t529LfvE"
      },
      "execution_count": 6,
      "outputs": []
    },
    {
      "cell_type": "code",
      "source": [
        "# Initializing weights\n",
        "initializer = keras.initializers.RandomUniform(minval=-0.1, maxval=0.1)"
      ],
      "metadata": {
        "id": "knEciJ2ELm7l"
      },
      "execution_count": 7,
      "outputs": []
    },
    {
      "cell_type": "code",
      "source": [
        "# Sequential model\n",
        "# 784 inputs (flattened)\n",
        "# Two Dense, fully connected layers with 25 and 10 neurons\n",
        "# tanh as activation function for hidden layer\n",
        "# Logistic (sigmoid) as activation function for output layer.\n",
        "\n",
        "model = keras.Sequential([keras.layers.Flatten(input_shape=(28, 28)),\n",
        "                          keras.layers.Dense(25, activation='tanh', kernel_initializer=initializer, bias_initializer='zeros'),\n",
        "                          keras.layers.Dense(10, activation='sigmoid', kernel_initializer=initializer, bias_initializer='zeros')])"
      ],
      "metadata": {
        "id": "3wJrc672Lujv"
      },
      "execution_count": 8,
      "outputs": []
    },
    {
      "cell_type": "code",
      "source": [
        "# SGD with learning rate of 0.01\n",
        "# MSE as loss function and show accuracy during training\n",
        "\n",
        "opt = keras.optimizers.SGD(learning_rate=0.01)\n",
        "\n",
        "model.compile(loss='mean_squared_error', optimizer=opt, metrics=['accuracy'])\n",
        "\n",
        "# Train for 20 epochs, shuffled, and update after each example (batch_size=1) --- this one was taking too long so increased batch size\n",
        "# history = model.fit(train_images, train_labels,\n",
        "#                     validation_data=(test_images, test_labels), epochs=EPOCHS, batch_size=BATCH_SIZE, verbose=2, shuffle=True)\n",
        "\n",
        "# Increased to 25 here\n",
        "history = model.fit(train_images, train_labels,\n",
        "                    validation_data=(test_images, test_labels), epochs=EPOCHS, batch_size=25, verbose=2, shuffle=True)\n"
      ],
      "metadata": {
        "colab": {
          "base_uri": "https://localhost:8080/"
        },
        "id": "qR0PJqUpMFOo",
        "outputId": "a959b8d0-5620-421a-fa8a-ca03fa97e076"
      },
      "execution_count": 13,
      "outputs": [
        {
          "output_type": "stream",
          "name": "stdout",
          "text": [
            "Epoch 1/20\n",
            "2400/2400 - 17s - loss: 0.0169 - accuracy: 0.9142 - val_loss: 0.0165 - val_accuracy: 0.9179 - 17s/epoch - 7ms/step\n",
            "Epoch 2/20\n",
            "2400/2400 - 24s - loss: 0.0167 - accuracy: 0.9149 - val_loss: 0.0163 - val_accuracy: 0.9179 - 24s/epoch - 10ms/step\n",
            "Epoch 3/20\n",
            "2400/2400 - 24s - loss: 0.0166 - accuracy: 0.9158 - val_loss: 0.0162 - val_accuracy: 0.9182 - 24s/epoch - 10ms/step\n",
            "Epoch 4/20\n",
            "2400/2400 - 24s - loss: 0.0164 - accuracy: 0.9162 - val_loss: 0.0160 - val_accuracy: 0.9188 - 24s/epoch - 10ms/step\n",
            "Epoch 5/20\n",
            "2400/2400 - 24s - loss: 0.0163 - accuracy: 0.9168 - val_loss: 0.0159 - val_accuracy: 0.9196 - 24s/epoch - 10ms/step\n",
            "Epoch 6/20\n",
            "2400/2400 - 24s - loss: 0.0162 - accuracy: 0.9175 - val_loss: 0.0158 - val_accuracy: 0.9200 - 24s/epoch - 10ms/step\n",
            "Epoch 7/20\n",
            "2400/2400 - 24s - loss: 0.0161 - accuracy: 0.9175 - val_loss: 0.0157 - val_accuracy: 0.9208 - 24s/epoch - 10ms/step\n",
            "Epoch 8/20\n",
            "2400/2400 - 24s - loss: 0.0159 - accuracy: 0.9180 - val_loss: 0.0155 - val_accuracy: 0.9208 - 24s/epoch - 10ms/step\n",
            "Epoch 9/20\n",
            "2400/2400 - 24s - loss: 0.0158 - accuracy: 0.9184 - val_loss: 0.0154 - val_accuracy: 0.9214 - 24s/epoch - 10ms/step\n",
            "Epoch 10/20\n",
            "2400/2400 - 24s - loss: 0.0157 - accuracy: 0.9190 - val_loss: 0.0153 - val_accuracy: 0.9218 - 24s/epoch - 10ms/step\n",
            "Epoch 11/20\n",
            "2400/2400 - 16s - loss: 0.0156 - accuracy: 0.9192 - val_loss: 0.0152 - val_accuracy: 0.9215 - 16s/epoch - 7ms/step\n",
            "Epoch 12/20\n",
            "2400/2400 - 24s - loss: 0.0155 - accuracy: 0.9195 - val_loss: 0.0151 - val_accuracy: 0.9227 - 24s/epoch - 10ms/step\n",
            "Epoch 13/20\n",
            "2400/2400 - 17s - loss: 0.0154 - accuracy: 0.9199 - val_loss: 0.0150 - val_accuracy: 0.9223 - 17s/epoch - 7ms/step\n",
            "Epoch 14/20\n",
            "2400/2400 - 24s - loss: 0.0153 - accuracy: 0.9201 - val_loss: 0.0149 - val_accuracy: 0.9230 - 24s/epoch - 10ms/step\n",
            "Epoch 15/20\n",
            "2400/2400 - 16s - loss: 0.0152 - accuracy: 0.9204 - val_loss: 0.0149 - val_accuracy: 0.9232 - 16s/epoch - 7ms/step\n",
            "Epoch 16/20\n",
            "2400/2400 - 16s - loss: 0.0151 - accuracy: 0.9209 - val_loss: 0.0148 - val_accuracy: 0.9230 - 16s/epoch - 7ms/step\n",
            "Epoch 17/20\n",
            "2400/2400 - 24s - loss: 0.0150 - accuracy: 0.9212 - val_loss: 0.0147 - val_accuracy: 0.9234 - 24s/epoch - 10ms/step\n",
            "Epoch 18/20\n",
            "2400/2400 - 16s - loss: 0.0149 - accuracy: 0.9214 - val_loss: 0.0146 - val_accuracy: 0.9236 - 16s/epoch - 7ms/step\n",
            "Epoch 19/20\n",
            "2400/2400 - 17s - loss: 0.0149 - accuracy: 0.9218 - val_loss: 0.0146 - val_accuracy: 0.9237 - 17s/epoch - 7ms/step\n",
            "Epoch 20/20\n",
            "2400/2400 - 24s - loss: 0.0148 - accuracy: 0.9222 - val_loss: 0.0145 - val_accuracy: 0.9242 - 24s/epoch - 10ms/step\n"
          ]
        }
      ]
    },
    {
      "cell_type": "code",
      "source": [
        "# Different kernel_initializer as well as activation functions\n",
        "model2 = keras.Sequential([\n",
        "    keras.layers.Flatten(input_shape=(28,28)),\n",
        "    keras.layers.Dense(25, activation='relu', kernel_initializer='he_normal', bias_initializer='zeros'),\n",
        "    keras.layers.Dense(10, activation='softmax', kernel_initializer='glorot_uniform', bias_initializer='zeros')\n",
        "])"
      ],
      "metadata": {
        "id": "cstbDOF9MhWV"
      },
      "execution_count": 14,
      "outputs": []
    },
    {
      "cell_type": "code",
      "source": [
        "model2.compile(loss='categorical_crossentropy', optimizer='adam', metrics=['accuracy'])"
      ],
      "metadata": {
        "id": "7mIFkkUYOleU"
      },
      "execution_count": 15,
      "outputs": []
    },
    {
      "cell_type": "code",
      "source": [
        "# Similarly increased here to 25\n",
        "history2 = model2.fit(train_images, train_labels, validation_data=(test_images, test_labels), epochs=EPOCHS, batch_size=25, verbose=2, shuffle=True)"
      ],
      "metadata": {
        "colab": {
          "base_uri": "https://localhost:8080/"
        },
        "id": "HAr8frj9OrMG",
        "outputId": "3a19de79-0dfb-4b4d-91ec-bc84be55f1b4"
      },
      "execution_count": 16,
      "outputs": [
        {
          "output_type": "stream",
          "name": "stdout",
          "text": [
            "Epoch 1/20\n",
            "2400/2400 - 5s - loss: 0.3090 - accuracy: 0.9087 - val_loss: 0.1982 - val_accuracy: 0.9409 - 5s/epoch - 2ms/step\n",
            "Epoch 2/20\n",
            "2400/2400 - 5s - loss: 0.1852 - accuracy: 0.9459 - val_loss: 0.1647 - val_accuracy: 0.9527 - 5s/epoch - 2ms/step\n",
            "Epoch 3/20\n",
            "2400/2400 - 5s - loss: 0.1555 - accuracy: 0.9539 - val_loss: 0.1605 - val_accuracy: 0.9547 - 5s/epoch - 2ms/step\n",
            "Epoch 4/20\n",
            "2400/2400 - 5s - loss: 0.1361 - accuracy: 0.9589 - val_loss: 0.1429 - val_accuracy: 0.9586 - 5s/epoch - 2ms/step\n",
            "Epoch 5/20\n",
            "2400/2400 - 5s - loss: 0.1254 - accuracy: 0.9624 - val_loss: 0.1309 - val_accuracy: 0.9627 - 5s/epoch - 2ms/step\n",
            "Epoch 6/20\n",
            "2400/2400 - 5s - loss: 0.1143 - accuracy: 0.9652 - val_loss: 0.1364 - val_accuracy: 0.9609 - 5s/epoch - 2ms/step\n",
            "Epoch 7/20\n",
            "2400/2400 - 5s - loss: 0.1064 - accuracy: 0.9681 - val_loss: 0.1489 - val_accuracy: 0.9580 - 5s/epoch - 2ms/step\n",
            "Epoch 8/20\n",
            "2400/2400 - 5s - loss: 0.1008 - accuracy: 0.9691 - val_loss: 0.1445 - val_accuracy: 0.9597 - 5s/epoch - 2ms/step\n",
            "Epoch 9/20\n",
            "2400/2400 - 5s - loss: 0.0960 - accuracy: 0.9708 - val_loss: 0.1377 - val_accuracy: 0.9621 - 5s/epoch - 2ms/step\n",
            "Epoch 10/20\n",
            "2400/2400 - 5s - loss: 0.0913 - accuracy: 0.9718 - val_loss: 0.1471 - val_accuracy: 0.9622 - 5s/epoch - 2ms/step\n",
            "Epoch 11/20\n",
            "2400/2400 - 5s - loss: 0.0883 - accuracy: 0.9722 - val_loss: 0.1343 - val_accuracy: 0.9638 - 5s/epoch - 2ms/step\n",
            "Epoch 12/20\n",
            "2400/2400 - 5s - loss: 0.0841 - accuracy: 0.9743 - val_loss: 0.1462 - val_accuracy: 0.9595 - 5s/epoch - 2ms/step\n",
            "Epoch 13/20\n",
            "2400/2400 - 5s - loss: 0.0809 - accuracy: 0.9747 - val_loss: 0.1478 - val_accuracy: 0.9612 - 5s/epoch - 2ms/step\n",
            "Epoch 14/20\n",
            "2400/2400 - 5s - loss: 0.0779 - accuracy: 0.9755 - val_loss: 0.1335 - val_accuracy: 0.9630 - 5s/epoch - 2ms/step\n",
            "Epoch 15/20\n",
            "2400/2400 - 5s - loss: 0.0753 - accuracy: 0.9763 - val_loss: 0.1382 - val_accuracy: 0.9640 - 5s/epoch - 2ms/step\n",
            "Epoch 16/20\n",
            "2400/2400 - 5s - loss: 0.0728 - accuracy: 0.9771 - val_loss: 0.1374 - val_accuracy: 0.9645 - 5s/epoch - 2ms/step\n",
            "Epoch 17/20\n",
            "2400/2400 - 5s - loss: 0.0700 - accuracy: 0.9786 - val_loss: 0.1437 - val_accuracy: 0.9608 - 5s/epoch - 2ms/step\n",
            "Epoch 18/20\n",
            "2400/2400 - 5s - loss: 0.0688 - accuracy: 0.9787 - val_loss: 0.1388 - val_accuracy: 0.9623 - 5s/epoch - 2ms/step\n",
            "Epoch 19/20\n",
            "2400/2400 - 5s - loss: 0.0653 - accuracy: 0.9790 - val_loss: 0.1399 - val_accuracy: 0.9631 - 5s/epoch - 2ms/step\n",
            "Epoch 20/20\n",
            "2400/2400 - 5s - loss: 0.0629 - accuracy: 0.9797 - val_loss: 0.1489 - val_accuracy: 0.9648 - 5s/epoch - 2ms/step\n"
          ]
        }
      ]
    },
    {
      "cell_type": "code",
      "source": [],
      "metadata": {
        "id": "hBXw_2v0Oyr0"
      },
      "execution_count": null,
      "outputs": []
    }
  ]
}