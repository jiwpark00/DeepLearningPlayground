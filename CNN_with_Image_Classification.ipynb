{
  "nbformat": 4,
  "nbformat_minor": 0,
  "metadata": {
    "colab": {
      "name": "CNN with Image Classification.ipynb",
      "provenance": []
    },
    "kernelspec": {
      "name": "python3",
      "display_name": "Python 3"
    },
    "language_info": {
      "name": "python"
    },
    "accelerator": "GPU",
    "gpuClass": "standard"
  },
  "cells": [
    {
      "cell_type": "code",
      "execution_count": 1,
      "metadata": {
        "id": "fU_F5-dEXoVn"
      },
      "outputs": [],
      "source": [
        "# Adapted from Chapter 7 in LDL book"
      ]
    },
    {
      "cell_type": "code",
      "source": [
        "# Using CIFAR-10 dataset\n",
        "import tensorflow as tf\n",
        "from tensorflow import keras\n",
        "import numpy as np\n",
        "import matplotlib.pyplot as plt\n",
        "import logging\n",
        "tf.get_logger().setLevel(logging.ERROR)"
      ],
      "metadata": {
        "id": "s38y8yz6XtRo"
      },
      "execution_count": 1,
      "outputs": []
    },
    {
      "cell_type": "code",
      "source": [
        "cifar_dataset = keras.datasets.cifar10\n",
        "(train_images, train_labels), (test_images, test_labels) = cifar_dataset.load_data()"
      ],
      "metadata": {
        "colab": {
          "base_uri": "https://localhost:8080/"
        },
        "id": "xXlx_yWfYFy3",
        "outputId": "5d7b978f-a8a6-436d-c9d8-da0c510a0ece"
      },
      "execution_count": 2,
      "outputs": [
        {
          "output_type": "stream",
          "name": "stdout",
          "text": [
            "Downloading data from https://www.cs.toronto.edu/~kriz/cifar-10-python.tar.gz\n",
            "170500096/170498071 [==============================] - 14s 0us/step\n",
            "170508288/170498071 [==============================] - 14s 0us/step\n"
          ]
        }
      ]
    },
    {
      "cell_type": "code",
      "source": [
        "print('Category: ', train_labels[100])\n",
        "plt.figure(figsize=(1,1))\n",
        "plt.imshow(train_images[100])\n",
        "plt.show()"
      ],
      "metadata": {
        "colab": {
          "base_uri": "https://localhost:8080/",
          "height": 122
        },
        "id": "21GZopo3YS9k",
        "outputId": "9c3de496-db13-43aa-d689-9af6fc7a2ebc"
      },
      "execution_count": 3,
      "outputs": [
        {
          "output_type": "stream",
          "name": "stdout",
          "text": [
            "Category:  [8]\n"
          ]
        },
        {
          "output_type": "display_data",
          "data": {
            "text/plain": [
              "<Figure size 72x72 with 1 Axes>"
            ],
            "image/png": "[encoded data removed]"
          },
          "metadata": {
            "needs_background": "light"
          }
        }
      ]
    },
    {
      "cell_type": "code",
      "source": [
        "plt.imshow(train_images[20])\n"
      ],
      "metadata": {
        "colab": {
          "base_uri": "https://localhost:8080/",
          "height": 283
        },
        "id": "r_AAFSDiYbzk",
        "outputId": "36deb889-1c7a-4601-cc76-2e11bcd21390"
      },
      "execution_count": 4,
      "outputs": [
        {
          "output_type": "execute_result",
          "data": {
            "text/plain": [
              "<matplotlib.image.AxesImage at 0x7fb15a805c50>"
            ]
          },
          "metadata": {},
          "execution_count": 4
        },
        {
          "output_type": "display_data",
          "data": {
            "text/plain": [
              "<Figure size 432x288 with 1 Axes>"
            ],
            "image/png": "[encoded data removed]"
          },
          "metadata": {
            "needs_background": "light"
          }
        }
      ]
    },
    {
      "cell_type": "code",
      "source": [
        "plt.imshow(train_images[1000])"
      ],
      "metadata": {
        "colab": {
          "base_uri": "https://localhost:8080/",
          "height": 283
        },
        "id": "HILtMqBPYg1c",
        "outputId": "36995f8d-4890-4a20-cf99-7dece6fba57f"
      },
      "execution_count": 5,
      "outputs": [
        {
          "output_type": "execute_result",
          "data": {
            "text/plain": [
              "<matplotlib.image.AxesImage at 0x7fb15a7d1350>"
            ]
          },
          "metadata": {},
          "execution_count": 5
        },
        {
          "output_type": "display_data",
          "data": {
            "text/plain": [
              "<Figure size 432x288 with 1 Axes>"
            ],
            "image/png": "[encoded data removed]"
          },
          "metadata": {
            "needs_background": "light"
          }
        }
      ]
    },
    {
      "cell_type": "code",
      "source": [
        "train_labels.shape"
      ],
      "metadata": {
        "colab": {
          "base_uri": "https://localhost:8080/"
        },
        "id": "ie0cBiWpYjSP",
        "outputId": "81ba4825-87aa-40f0-dc0a-18c58c598839"
      },
      "execution_count": 6,
      "outputs": [
        {
          "output_type": "execute_result",
          "data": {
            "text/plain": [
              "(50000, 1)"
            ]
          },
          "metadata": {},
          "execution_count": 6
        }
      ]
    },
    {
      "cell_type": "code",
      "source": [
        "train_images.shape"
      ],
      "metadata": {
        "colab": {
          "base_uri": "https://localhost:8080/"
        },
        "id": "YSD_PW4dY2Gh",
        "outputId": "9c4f283d-4eef-4aa5-a1f1-6965bc365e16"
      },
      "execution_count": 7,
      "outputs": [
        {
          "output_type": "execute_result",
          "data": {
            "text/plain": [
              "(50000, 32, 32, 3)"
            ]
          },
          "metadata": {},
          "execution_count": 7
        }
      ]
    },
    {
      "cell_type": "code",
      "source": [
        "train_images[100][0][0]"
      ],
      "metadata": {
        "colab": {
          "base_uri": "https://localhost:8080/"
        },
        "id": "f1Sf2HgHY3Uk",
        "outputId": "d8b7a3fc-812e-4cb5-ca7a-6f08ac2f5d26"
      },
      "execution_count": 8,
      "outputs": [
        {
          "output_type": "execute_result",
          "data": {
            "text/plain": [
              "array([213, 229, 242], dtype=uint8)"
            ]
          },
          "metadata": {},
          "execution_count": 8
        }
      ]
    },
    {
      "cell_type": "code",
      "source": [
        "import tensorflow as tf\n",
        "from tensorflow import keras\n",
        "from tensorflow.keras.utils import to_categorical\n",
        "from tensorflow.keras.models import Sequential\n",
        "from tensorflow.keras.layers import Dense\n",
        "from tensorflow.keras.layers import Flatten\n",
        "from tensorflow.keras.layers import Conv2D\n",
        "import numpy as np\n",
        "import logging\n",
        "tf.get_logger().setLevel(logging.ERROR)\n",
        "\n",
        "EPOCHS = 128\n",
        "BATCH_SIZE = 32\n",
        "\n",
        "# load the dataset\n",
        "cifar_dataset = keras.datasets.cifar10\n",
        "(train_images, train_labels), (test_images, test_labels) = cifar_dataset.load_data()\n",
        "\n",
        "# standardize dataset\n",
        "mean = np.mean(train_images)\n",
        "stddev = np.std(train_images)\n",
        "train_images = (train_images - mean) / stddev\n",
        "test_images = (test_images - mean) / stddev\n",
        "print('mean: ', mean)\n",
        "print('stddev: ', stddev)"
      ],
      "metadata": {
        "colab": {
          "base_uri": "https://localhost:8080/"
        },
        "id": "A3o5Hi7nY51w",
        "outputId": "ab1abd87-25bc-4d86-8216-9ac95ea4e813"
      },
      "execution_count": 9,
      "outputs": [
        {
          "output_type": "stream",
          "name": "stdout",
          "text": [
            "mean:  120.70756512369792\n",
            "stddev:  64.1500758911213\n"
          ]
        }
      ]
    },
    {
      "cell_type": "code",
      "source": [
        "# Change labels to one-hot\n",
        "train_labels = to_categorical(train_labels, num_classes=10)\n",
        "test_labels = to_categorical(test_labels, num_classes=10)"
      ],
      "metadata": {
        "id": "qmf5eyJOaGLS"
      },
      "execution_count": 10,
      "outputs": []
    },
    {
      "cell_type": "code",
      "source": [
        "# Model with 2 convolutional layers and 1 fully connected layers\n",
        "model = Sequential()\n",
        "model.add(Conv2D(64, (5,5), strides=(2,2), activation='relu', padding='same',\n",
        "                 input_shape=(32,32,3), kernel_initializer='he_normal',\n",
        "                 bias_initializer='zeros'))\n",
        "model.add(Conv2D(64, (3,3), strides=(2,2), activation='relu', padding='same',\n",
        "                 kernel_initializer='he_normal', bias_initializer='zeros'))\n",
        "model.add(Flatten())\n",
        "model.add(Dense(10, activation='softmax', kernel_initializer='glorot_uniform', bias_initializer='zeros'))\n",
        "model.compile(loss='categorical_crossentropy', optimizer='adam', metrics=['accuracy'])"
      ],
      "metadata": {
        "id": "ZDQG20VlaPNx"
      },
      "execution_count": 11,
      "outputs": []
    },
    {
      "cell_type": "code",
      "source": [
        "model.summary()"
      ],
      "metadata": {
        "colab": {
          "base_uri": "https://localhost:8080/"
        },
        "id": "zsg-2Y6Ia3q3",
        "outputId": "37bb829c-fa42-4838-8fb0-a018cbc73ae3"
      },
      "execution_count": 12,
      "outputs": [
        {
          "output_type": "stream",
          "name": "stdout",
          "text": [
            "Model: \"sequential\"\n",
            "_________________________________________________________________\n",
            " Layer (type)                Output Shape              Param #   \n",
            "=================================================================\n",
            " conv2d (Conv2D)             (None, 16, 16, 64)        4864      \n",
            "                                                                 \n",
            " conv2d_1 (Conv2D)           (None, 8, 8, 64)          36928     \n",
            "                                                                 \n",
            " flatten (Flatten)           (None, 4096)              0         \n",
            "                                                                 \n",
            " dense (Dense)               (None, 10)                40970     \n",
            "                                                                 \n",
            "=================================================================\n",
            "Total params: 82,762\n",
            "Trainable params: 82,762\n",
            "Non-trainable params: 0\n",
            "_________________________________________________________________\n"
          ]
        }
      ]
    },
    {
      "cell_type": "code",
      "source": [
        "history = model.fit(train_images, train_labels, validation_data = (test_images, test_labels), epochs=EPOCHS,\n",
        "                    batch_size=BATCH_SIZE, verbose=2, shuffle=True)"
      ],
      "metadata": {
        "colab": {
          "base_uri": "https://localhost:8080/"
        },
        "id": "9HSOUqUva5T-",
        "outputId": "c8d6e4ec-9d72-4e17-86d8-09ef371600f8"
      },
      "execution_count": 14,
      "outputs": [
        {
          "output_type": "stream",
          "name": "stdout",
          "text": [
            "Epoch 1/128\n",
            "1563/1563 - 17s - loss: 1.3924 - accuracy: 0.5091 - val_loss: 1.1788 - val_accuracy: 0.5821 - 17s/epoch - 11ms/step\n",
            "Epoch 2/128\n",
            "1563/1563 - 7s - loss: 1.0551 - accuracy: 0.6325 - val_loss: 1.0454 - val_accuracy: 0.6364 - 7s/epoch - 4ms/step\n",
            "Epoch 3/128\n",
            "1563/1563 - 6s - loss: 0.9059 - accuracy: 0.6840 - val_loss: 1.0331 - val_accuracy: 0.6443 - 6s/epoch - 4ms/step\n",
            "Epoch 4/128\n",
            "1563/1563 - 5s - loss: 0.8080 - accuracy: 0.7176 - val_loss: 1.0165 - val_accuracy: 0.6554 - 5s/epoch - 3ms/step\n",
            "Epoch 5/128\n",
            "1563/1563 - 6s - loss: 0.7270 - accuracy: 0.7454 - val_loss: 1.0601 - val_accuracy: 0.6490 - 6s/epoch - 4ms/step\n",
            "Epoch 6/128\n",
            "1563/1563 - 6s - loss: 0.6596 - accuracy: 0.7701 - val_loss: 1.0992 - val_accuracy: 0.6549 - 6s/epoch - 4ms/step\n",
            "Epoch 7/128\n",
            "1563/1563 - 6s - loss: 0.5994 - accuracy: 0.7878 - val_loss: 1.1265 - val_accuracy: 0.6534 - 6s/epoch - 4ms/step\n",
            "Epoch 8/128\n",
            "1563/1563 - 6s - loss: 0.5533 - accuracy: 0.8039 - val_loss: 1.1868 - val_accuracy: 0.6446 - 6s/epoch - 4ms/step\n",
            "Epoch 9/128\n",
            "1563/1563 - 6s - loss: 0.5026 - accuracy: 0.8205 - val_loss: 1.2781 - val_accuracy: 0.6387 - 6s/epoch - 4ms/step\n",
            "Epoch 10/128\n",
            "1563/1563 - 6s - loss: 0.4650 - accuracy: 0.8340 - val_loss: 1.3337 - val_accuracy: 0.6324 - 6s/epoch - 4ms/step\n",
            "Epoch 11/128\n",
            "1563/1563 - 6s - loss: 0.4249 - accuracy: 0.8492 - val_loss: 1.4533 - val_accuracy: 0.6334 - 6s/epoch - 4ms/step\n",
            "Epoch 12/128\n",
            "1563/1563 - 6s - loss: 0.3892 - accuracy: 0.8596 - val_loss: 1.5141 - val_accuracy: 0.6290 - 6s/epoch - 4ms/step\n",
            "Epoch 13/128\n",
            "1563/1563 - 5s - loss: 0.3639 - accuracy: 0.8703 - val_loss: 1.6181 - val_accuracy: 0.6321 - 5s/epoch - 3ms/step\n",
            "Epoch 14/128\n",
            "1563/1563 - 6s - loss: 0.3368 - accuracy: 0.8787 - val_loss: 1.6659 - val_accuracy: 0.6308 - 6s/epoch - 4ms/step\n",
            "Epoch 15/128\n",
            "1563/1563 - 5s - loss: 0.3119 - accuracy: 0.8872 - val_loss: 1.7888 - val_accuracy: 0.6309 - 5s/epoch - 3ms/step\n",
            "Epoch 16/128\n",
            "1563/1563 - 5s - loss: 0.2880 - accuracy: 0.8950 - val_loss: 1.9092 - val_accuracy: 0.6239 - 5s/epoch - 4ms/step\n",
            "Epoch 17/128\n",
            "1563/1563 - 5s - loss: 0.2730 - accuracy: 0.9011 - val_loss: 2.0158 - val_accuracy: 0.6273 - 5s/epoch - 3ms/step\n",
            "Epoch 18/128\n",
            "1563/1563 - 6s - loss: 0.2534 - accuracy: 0.9093 - val_loss: 2.1200 - val_accuracy: 0.6192 - 6s/epoch - 4ms/step\n",
            "Epoch 19/128\n",
            "1563/1563 - 6s - loss: 0.2457 - accuracy: 0.9112 - val_loss: 2.1788 - val_accuracy: 0.6197 - 6s/epoch - 4ms/step\n",
            "Epoch 20/128\n",
            "1563/1563 - 5s - loss: 0.2317 - accuracy: 0.9167 - val_loss: 2.2699 - val_accuracy: 0.6267 - 5s/epoch - 3ms/step\n",
            "Epoch 21/128\n",
            "1563/1563 - 5s - loss: 0.2251 - accuracy: 0.9174 - val_loss: 2.3340 - val_accuracy: 0.6240 - 5s/epoch - 4ms/step\n",
            "Epoch 22/128\n",
            "1563/1563 - 5s - loss: 0.2086 - accuracy: 0.9252 - val_loss: 2.4451 - val_accuracy: 0.6197 - 5s/epoch - 3ms/step\n",
            "Epoch 23/128\n",
            "1563/1563 - 6s - loss: 0.2008 - accuracy: 0.9270 - val_loss: 2.6167 - val_accuracy: 0.6067 - 6s/epoch - 4ms/step\n",
            "Epoch 24/128\n",
            "1563/1563 - 5s - loss: 0.1985 - accuracy: 0.9280 - val_loss: 2.6963 - val_accuracy: 0.6180 - 5s/epoch - 3ms/step\n",
            "Epoch 25/128\n",
            "1563/1563 - 7s - loss: 0.1869 - accuracy: 0.9332 - val_loss: 2.7896 - val_accuracy: 0.6231 - 7s/epoch - 5ms/step\n",
            "Epoch 26/128\n",
            "1563/1563 - 7s - loss: 0.1760 - accuracy: 0.9360 - val_loss: 3.0187 - val_accuracy: 0.6094 - 7s/epoch - 4ms/step\n",
            "Epoch 27/128\n",
            "1563/1563 - 7s - loss: 0.1798 - accuracy: 0.9367 - val_loss: 3.0269 - val_accuracy: 0.6093 - 7s/epoch - 4ms/step\n",
            "Epoch 28/128\n",
            "1563/1563 - 6s - loss: 0.1687 - accuracy: 0.9396 - val_loss: 3.1392 - val_accuracy: 0.6135 - 6s/epoch - 4ms/step\n",
            "Epoch 29/128\n",
            "1563/1563 - 7s - loss: 0.1643 - accuracy: 0.9434 - val_loss: 3.1681 - val_accuracy: 0.6072 - 7s/epoch - 5ms/step\n",
            "Epoch 30/128\n",
            "1563/1563 - 10s - loss: 0.1712 - accuracy: 0.9413 - val_loss: 3.3458 - val_accuracy: 0.6136 - 10s/epoch - 6ms/step\n",
            "Epoch 31/128\n",
            "1563/1563 - 7s - loss: 0.1572 - accuracy: 0.9436 - val_loss: 3.4169 - val_accuracy: 0.6134 - 7s/epoch - 4ms/step\n",
            "Epoch 32/128\n",
            "1563/1563 - 5s - loss: 0.1673 - accuracy: 0.9428 - val_loss: 3.4324 - val_accuracy: 0.6146 - 5s/epoch - 3ms/step\n",
            "Epoch 33/128\n",
            "1563/1563 - 5s - loss: 0.1532 - accuracy: 0.9470 - val_loss: 3.5754 - val_accuracy: 0.6175 - 5s/epoch - 3ms/step\n",
            "Epoch 34/128\n",
            "1563/1563 - 6s - loss: 0.1487 - accuracy: 0.9494 - val_loss: 3.6620 - val_accuracy: 0.6118 - 6s/epoch - 4ms/step\n",
            "Epoch 35/128\n",
            "1563/1563 - 6s - loss: 0.1527 - accuracy: 0.9488 - val_loss: 3.7271 - val_accuracy: 0.6177 - 6s/epoch - 4ms/step\n",
            "Epoch 36/128\n",
            "1563/1563 - 5s - loss: 0.1478 - accuracy: 0.9486 - val_loss: 3.9930 - val_accuracy: 0.6085 - 5s/epoch - 3ms/step\n",
            "Epoch 37/128\n",
            "1563/1563 - 5s - loss: 0.1544 - accuracy: 0.9471 - val_loss: 4.0067 - val_accuracy: 0.6036 - 5s/epoch - 3ms/step\n",
            "Epoch 38/128\n",
            "1563/1563 - 6s - loss: 0.1479 - accuracy: 0.9514 - val_loss: 4.0904 - val_accuracy: 0.6147 - 6s/epoch - 4ms/step\n",
            "Epoch 39/128\n",
            "1563/1563 - 6s - loss: 0.1429 - accuracy: 0.9526 - val_loss: 4.1832 - val_accuracy: 0.6119 - 6s/epoch - 4ms/step\n",
            "Epoch 40/128\n",
            "1563/1563 - 6s - loss: 0.1466 - accuracy: 0.9509 - val_loss: 4.2380 - val_accuracy: 0.6117 - 6s/epoch - 4ms/step\n",
            "Epoch 41/128\n",
            "1563/1563 - 7s - loss: 0.1390 - accuracy: 0.9543 - val_loss: 4.3738 - val_accuracy: 0.6118 - 7s/epoch - 4ms/step\n",
            "Epoch 42/128\n",
            "1563/1563 - 7s - loss: 0.1395 - accuracy: 0.9552 - val_loss: 4.3868 - val_accuracy: 0.6125 - 7s/epoch - 4ms/step\n",
            "Epoch 43/128\n",
            "1563/1563 - 7s - loss: 0.1496 - accuracy: 0.9519 - val_loss: 4.5708 - val_accuracy: 0.6088 - 7s/epoch - 4ms/step\n",
            "Epoch 44/128\n",
            "1563/1563 - 8s - loss: 0.1368 - accuracy: 0.9555 - val_loss: 4.6436 - val_accuracy: 0.6149 - 8s/epoch - 5ms/step\n",
            "Epoch 45/128\n",
            "1563/1563 - 7s - loss: 0.1429 - accuracy: 0.9553 - val_loss: 4.7369 - val_accuracy: 0.6086 - 7s/epoch - 4ms/step\n",
            "Epoch 46/128\n",
            "1563/1563 - 6s - loss: 0.1410 - accuracy: 0.9565 - val_loss: 4.8644 - val_accuracy: 0.6107 - 6s/epoch - 4ms/step\n",
            "Epoch 47/128\n",
            "1563/1563 - 7s - loss: 0.1422 - accuracy: 0.9551 - val_loss: 4.8954 - val_accuracy: 0.6065 - 7s/epoch - 4ms/step\n",
            "Epoch 48/128\n",
            "1563/1563 - 7s - loss: 0.1351 - accuracy: 0.9576 - val_loss: 5.0743 - val_accuracy: 0.6086 - 7s/epoch - 4ms/step\n",
            "Epoch 49/128\n",
            "1563/1563 - 7s - loss: 0.1352 - accuracy: 0.9574 - val_loss: 5.1111 - val_accuracy: 0.6137 - 7s/epoch - 5ms/step\n",
            "Epoch 50/128\n",
            "1563/1563 - 6s - loss: 0.1417 - accuracy: 0.9573 - val_loss: 5.1471 - val_accuracy: 0.6134 - 6s/epoch - 4ms/step\n",
            "Epoch 51/128\n",
            "1563/1563 - 6s - loss: 0.1393 - accuracy: 0.9589 - val_loss: 5.2463 - val_accuracy: 0.6077 - 6s/epoch - 4ms/step\n",
            "Epoch 52/128\n",
            "1563/1563 - 6s - loss: 0.1274 - accuracy: 0.9610 - val_loss: 5.2590 - val_accuracy: 0.6112 - 6s/epoch - 4ms/step\n",
            "Epoch 53/128\n",
            "1563/1563 - 6s - loss: 0.1345 - accuracy: 0.9597 - val_loss: 5.3926 - val_accuracy: 0.6115 - 6s/epoch - 4ms/step\n",
            "Epoch 54/128\n",
            "1563/1563 - 6s - loss: 0.1410 - accuracy: 0.9594 - val_loss: 5.6131 - val_accuracy: 0.6142 - 6s/epoch - 4ms/step\n",
            "Epoch 55/128\n",
            "1563/1563 - 7s - loss: 0.1344 - accuracy: 0.9604 - val_loss: 5.7592 - val_accuracy: 0.6111 - 7s/epoch - 5ms/step\n",
            "Epoch 56/128\n",
            "1563/1563 - 7s - loss: 0.1329 - accuracy: 0.9624 - val_loss: 5.8680 - val_accuracy: 0.6056 - 7s/epoch - 5ms/step\n",
            "Epoch 57/128\n",
            "1563/1563 - 7s - loss: 0.1400 - accuracy: 0.9606 - val_loss: 5.7786 - val_accuracy: 0.6101 - 7s/epoch - 4ms/step\n",
            "Epoch 58/128\n",
            "1563/1563 - 7s - loss: 0.1397 - accuracy: 0.9610 - val_loss: 5.7889 - val_accuracy: 0.6164 - 7s/epoch - 4ms/step\n",
            "Epoch 59/128\n",
            "1563/1563 - 7s - loss: 0.1275 - accuracy: 0.9634 - val_loss: 6.0549 - val_accuracy: 0.6060 - 7s/epoch - 4ms/step\n",
            "Epoch 60/128\n",
            "1563/1563 - 8s - loss: 0.1353 - accuracy: 0.9626 - val_loss: 6.1162 - val_accuracy: 0.6049 - 8s/epoch - 5ms/step\n",
            "Epoch 61/128\n",
            "1563/1563 - 6s - loss: 0.1377 - accuracy: 0.9610 - val_loss: 6.2162 - val_accuracy: 0.6074 - 6s/epoch - 4ms/step\n",
            "Epoch 62/128\n",
            "1563/1563 - 6s - loss: 0.1354 - accuracy: 0.9635 - val_loss: 6.0639 - val_accuracy: 0.6149 - 6s/epoch - 4ms/step\n",
            "Epoch 63/128\n",
            "1563/1563 - 5s - loss: 0.1329 - accuracy: 0.9633 - val_loss: 6.5595 - val_accuracy: 0.6042 - 5s/epoch - 3ms/step\n",
            "Epoch 64/128\n",
            "1563/1563 - 5s - loss: 0.1350 - accuracy: 0.9645 - val_loss: 6.3425 - val_accuracy: 0.6088 - 5s/epoch - 3ms/step\n",
            "Epoch 65/128\n",
            "1563/1563 - 5s - loss: 0.1253 - accuracy: 0.9659 - val_loss: 6.5410 - val_accuracy: 0.6136 - 5s/epoch - 3ms/step\n",
            "Epoch 66/128\n",
            "1563/1563 - 6s - loss: 0.1415 - accuracy: 0.9632 - val_loss: 6.5991 - val_accuracy: 0.6088 - 6s/epoch - 4ms/step\n",
            "Epoch 67/128\n",
            "1563/1563 - 5s - loss: 0.1410 - accuracy: 0.9639 - val_loss: 6.8411 - val_accuracy: 0.6138 - 5s/epoch - 3ms/step\n",
            "Epoch 68/128\n",
            "1563/1563 - 6s - loss: 0.1306 - accuracy: 0.9654 - val_loss: 6.7984 - val_accuracy: 0.6113 - 6s/epoch - 4ms/step\n",
            "Epoch 69/128\n",
            "1563/1563 - 5s - loss: 0.1273 - accuracy: 0.9673 - val_loss: 6.9655 - val_accuracy: 0.6036 - 5s/epoch - 3ms/step\n",
            "Epoch 70/128\n",
            "1563/1563 - 5s - loss: 0.1426 - accuracy: 0.9632 - val_loss: 6.8905 - val_accuracy: 0.6024 - 5s/epoch - 3ms/step\n",
            "Epoch 71/128\n",
            "1563/1563 - 5s - loss: 0.1363 - accuracy: 0.9651 - val_loss: 7.0606 - val_accuracy: 0.6067 - 5s/epoch - 3ms/step\n",
            "Epoch 72/128\n",
            "1563/1563 - 5s - loss: 0.1187 - accuracy: 0.9690 - val_loss: 7.2346 - val_accuracy: 0.6161 - 5s/epoch - 3ms/step\n",
            "Epoch 73/128\n",
            "1563/1563 - 5s - loss: 0.1506 - accuracy: 0.9626 - val_loss: 7.1263 - val_accuracy: 0.6061 - 5s/epoch - 3ms/step\n",
            "Epoch 74/128\n",
            "1563/1563 - 5s - loss: 0.1304 - accuracy: 0.9671 - val_loss: 7.2727 - val_accuracy: 0.6103 - 5s/epoch - 3ms/step\n",
            "Epoch 75/128\n",
            "1563/1563 - 5s - loss: 0.1341 - accuracy: 0.9672 - val_loss: 7.3218 - val_accuracy: 0.6065 - 5s/epoch - 3ms/step\n",
            "Epoch 76/128\n",
            "1563/1563 - 5s - loss: 0.1287 - accuracy: 0.9677 - val_loss: 7.6982 - val_accuracy: 0.6069 - 5s/epoch - 3ms/step\n",
            "Epoch 77/128\n",
            "1563/1563 - 6s - loss: 0.1382 - accuracy: 0.9665 - val_loss: 7.5972 - val_accuracy: 0.6049 - 6s/epoch - 4ms/step\n",
            "Epoch 78/128\n",
            "1563/1563 - 5s - loss: 0.1271 - accuracy: 0.9686 - val_loss: 7.7161 - val_accuracy: 0.6030 - 5s/epoch - 3ms/step\n",
            "Epoch 79/128\n",
            "1563/1563 - 6s - loss: 0.1360 - accuracy: 0.9673 - val_loss: 8.0565 - val_accuracy: 0.6011 - 6s/epoch - 4ms/step\n",
            "Epoch 80/128\n",
            "1563/1563 - 6s - loss: 0.1319 - accuracy: 0.9689 - val_loss: 7.9545 - val_accuracy: 0.6024 - 6s/epoch - 4ms/step\n",
            "Epoch 81/128\n",
            "1563/1563 - 6s - loss: 0.1347 - accuracy: 0.9694 - val_loss: 8.0255 - val_accuracy: 0.6136 - 6s/epoch - 4ms/step\n",
            "Epoch 82/128\n",
            "1563/1563 - 6s - loss: 0.1494 - accuracy: 0.9666 - val_loss: 8.0994 - val_accuracy: 0.6093 - 6s/epoch - 4ms/step\n",
            "Epoch 83/128\n",
            "1563/1563 - 5s - loss: 0.1209 - accuracy: 0.9710 - val_loss: 8.1007 - val_accuracy: 0.6065 - 5s/epoch - 3ms/step\n",
            "Epoch 84/128\n",
            "1563/1563 - 5s - loss: 0.1420 - accuracy: 0.9682 - val_loss: 8.1604 - val_accuracy: 0.6024 - 5s/epoch - 3ms/step\n",
            "Epoch 85/128\n",
            "1563/1563 - 5s - loss: 0.1350 - accuracy: 0.9695 - val_loss: 8.5275 - val_accuracy: 0.6097 - 5s/epoch - 4ms/step\n",
            "Epoch 86/128\n",
            "1563/1563 - 6s - loss: 0.1294 - accuracy: 0.9706 - val_loss: 8.5924 - val_accuracy: 0.6017 - 6s/epoch - 4ms/step\n",
            "Epoch 87/128\n",
            "1563/1563 - 5s - loss: 0.1365 - accuracy: 0.9681 - val_loss: 9.0518 - val_accuracy: 0.6064 - 5s/epoch - 3ms/step\n",
            "Epoch 88/128\n",
            "1563/1563 - 5s - loss: 0.1294 - accuracy: 0.9706 - val_loss: 8.7270 - val_accuracy: 0.6085 - 5s/epoch - 3ms/step\n",
            "Epoch 89/128\n",
            "1563/1563 - 5s - loss: 0.1383 - accuracy: 0.9701 - val_loss: 8.9397 - val_accuracy: 0.6027 - 5s/epoch - 3ms/step\n",
            "Epoch 90/128\n",
            "1563/1563 - 5s - loss: 0.1437 - accuracy: 0.9685 - val_loss: 9.0854 - val_accuracy: 0.5977 - 5s/epoch - 3ms/step\n",
            "Epoch 91/128\n",
            "1563/1563 - 5s - loss: 0.1221 - accuracy: 0.9718 - val_loss: 8.8138 - val_accuracy: 0.6069 - 5s/epoch - 3ms/step\n",
            "Epoch 92/128\n",
            "1563/1563 - 6s - loss: 0.1379 - accuracy: 0.9702 - val_loss: 9.1774 - val_accuracy: 0.6014 - 6s/epoch - 4ms/step\n",
            "Epoch 93/128\n",
            "1563/1563 - 6s - loss: 0.1294 - accuracy: 0.9719 - val_loss: 9.2056 - val_accuracy: 0.5988 - 6s/epoch - 4ms/step\n",
            "Epoch 94/128\n",
            "1563/1563 - 6s - loss: 0.1467 - accuracy: 0.9696 - val_loss: 9.3388 - val_accuracy: 0.6125 - 6s/epoch - 4ms/step\n",
            "Epoch 95/128\n",
            "1563/1563 - 6s - loss: 0.1269 - accuracy: 0.9719 - val_loss: 9.3153 - val_accuracy: 0.6093 - 6s/epoch - 4ms/step\n",
            "Epoch 96/128\n",
            "1563/1563 - 7s - loss: 0.1359 - accuracy: 0.9714 - val_loss: 9.6303 - val_accuracy: 0.6093 - 7s/epoch - 5ms/step\n",
            "Epoch 97/128\n",
            "1563/1563 - 6s - loss: 0.1374 - accuracy: 0.9709 - val_loss: 9.6658 - val_accuracy: 0.6089 - 6s/epoch - 4ms/step\n",
            "Epoch 98/128\n",
            "1563/1563 - 5s - loss: 0.1410 - accuracy: 0.9709 - val_loss: 9.9542 - val_accuracy: 0.6153 - 5s/epoch - 3ms/step\n",
            "Epoch 99/128\n",
            "1563/1563 - 6s - loss: 0.1428 - accuracy: 0.9709 - val_loss: 9.9906 - val_accuracy: 0.6159 - 6s/epoch - 4ms/step\n",
            "Epoch 100/128\n",
            "1563/1563 - 5s - loss: 0.1325 - accuracy: 0.9732 - val_loss: 10.2150 - val_accuracy: 0.6137 - 5s/epoch - 3ms/step\n",
            "Epoch 101/128\n",
            "1563/1563 - 5s - loss: 0.1386 - accuracy: 0.9716 - val_loss: 10.0138 - val_accuracy: 0.6103 - 5s/epoch - 3ms/step\n",
            "Epoch 102/128\n",
            "1563/1563 - 6s - loss: 0.1388 - accuracy: 0.9721 - val_loss: 10.4020 - val_accuracy: 0.6173 - 6s/epoch - 4ms/step\n",
            "Epoch 103/128\n",
            "1563/1563 - 5s - loss: 0.1272 - accuracy: 0.9744 - val_loss: 10.3327 - val_accuracy: 0.6108 - 5s/epoch - 4ms/step\n",
            "Epoch 104/128\n",
            "1563/1563 - 5s - loss: 0.1600 - accuracy: 0.9704 - val_loss: 10.6643 - val_accuracy: 0.6096 - 5s/epoch - 3ms/step\n",
            "Epoch 105/128\n",
            "1563/1563 - 5s - loss: 0.1257 - accuracy: 0.9747 - val_loss: 10.8742 - val_accuracy: 0.6058 - 5s/epoch - 3ms/step\n",
            "Epoch 106/128\n",
            "1563/1563 - 5s - loss: 0.1477 - accuracy: 0.9722 - val_loss: 10.6325 - val_accuracy: 0.6150 - 5s/epoch - 3ms/step\n",
            "Epoch 107/128\n",
            "1563/1563 - 5s - loss: 0.1341 - accuracy: 0.9749 - val_loss: 10.7674 - val_accuracy: 0.6077 - 5s/epoch - 4ms/step\n",
            "Epoch 108/128\n",
            "1563/1563 - 5s - loss: 0.1469 - accuracy: 0.9727 - val_loss: 10.9593 - val_accuracy: 0.6071 - 5s/epoch - 3ms/step\n",
            "Epoch 109/128\n",
            "1563/1563 - 5s - loss: 0.1354 - accuracy: 0.9742 - val_loss: 11.2063 - val_accuracy: 0.6051 - 5s/epoch - 4ms/step\n",
            "Epoch 110/128\n",
            "1563/1563 - 5s - loss: 0.1469 - accuracy: 0.9729 - val_loss: 10.9553 - val_accuracy: 0.6093 - 5s/epoch - 3ms/step\n",
            "Epoch 111/128\n",
            "1563/1563 - 6s - loss: 0.1368 - accuracy: 0.9740 - val_loss: 11.1842 - val_accuracy: 0.6110 - 6s/epoch - 4ms/step\n",
            "Epoch 112/128\n",
            "1563/1563 - 5s - loss: 0.1365 - accuracy: 0.9744 - val_loss: 11.3999 - val_accuracy: 0.6111 - 5s/epoch - 3ms/step\n",
            "Epoch 113/128\n",
            "1563/1563 - 5s - loss: 0.1301 - accuracy: 0.9752 - val_loss: 11.5760 - val_accuracy: 0.6131 - 5s/epoch - 3ms/step\n",
            "Epoch 114/128\n",
            "1563/1563 - 5s - loss: 0.1493 - accuracy: 0.9723 - val_loss: 11.6412 - val_accuracy: 0.6066 - 5s/epoch - 3ms/step\n",
            "Epoch 115/128\n",
            "1563/1563 - 5s - loss: 0.1349 - accuracy: 0.9754 - val_loss: 11.7679 - val_accuracy: 0.6031 - 5s/epoch - 3ms/step\n",
            "Epoch 116/128\n",
            "1563/1563 - 5s - loss: 0.1408 - accuracy: 0.9750 - val_loss: 11.9320 - val_accuracy: 0.6038 - 5s/epoch - 3ms/step\n",
            "Epoch 117/128\n",
            "1563/1563 - 5s - loss: 0.1467 - accuracy: 0.9737 - val_loss: 11.9107 - val_accuracy: 0.6060 - 5s/epoch - 3ms/step\n",
            "Epoch 118/128\n",
            "1563/1563 - 5s - loss: 0.1462 - accuracy: 0.9740 - val_loss: 12.1282 - val_accuracy: 0.6013 - 5s/epoch - 3ms/step\n",
            "Epoch 119/128\n",
            "1563/1563 - 5s - loss: 0.1436 - accuracy: 0.9736 - val_loss: 12.2641 - val_accuracy: 0.6104 - 5s/epoch - 3ms/step\n",
            "Epoch 120/128\n",
            "1563/1563 - 6s - loss: 0.1320 - accuracy: 0.9762 - val_loss: 12.4703 - val_accuracy: 0.6084 - 6s/epoch - 4ms/step\n",
            "Epoch 121/128\n",
            "1563/1563 - 5s - loss: 0.1422 - accuracy: 0.9750 - val_loss: 12.2614 - val_accuracy: 0.6056 - 5s/epoch - 3ms/step\n",
            "Epoch 122/128\n",
            "1563/1563 - 6s - loss: 0.1322 - accuracy: 0.9765 - val_loss: 12.4003 - val_accuracy: 0.6109 - 6s/epoch - 4ms/step\n",
            "Epoch 123/128\n",
            "1563/1563 - 6s - loss: 0.1371 - accuracy: 0.9764 - val_loss: 12.6097 - val_accuracy: 0.6084 - 6s/epoch - 4ms/step\n",
            "Epoch 124/128\n",
            "1563/1563 - 6s - loss: 0.1489 - accuracy: 0.9743 - val_loss: 12.7666 - val_accuracy: 0.6123 - 6s/epoch - 4ms/step\n",
            "Epoch 125/128\n",
            "1563/1563 - 6s - loss: 0.1281 - accuracy: 0.9773 - val_loss: 12.5505 - val_accuracy: 0.6105 - 6s/epoch - 4ms/step\n",
            "Epoch 126/128\n",
            "1563/1563 - 5s - loss: 0.1499 - accuracy: 0.9757 - val_loss: 13.0336 - val_accuracy: 0.6087 - 5s/epoch - 3ms/step\n",
            "Epoch 127/128\n",
            "1563/1563 - 5s - loss: 0.1395 - accuracy: 0.9754 - val_loss: 13.2363 - val_accuracy: 0.6067 - 5s/epoch - 3ms/step\n",
            "Epoch 128/128\n",
            "1563/1563 - 5s - loss: 0.1472 - accuracy: 0.9760 - val_loss: 13.0794 - val_accuracy: 0.6069 - 5s/epoch - 3ms/step\n"
          ]
        }
      ]
    },
    {
      "cell_type": "code",
      "source": [
        "# Above overfit so here is the improved configuration from the book"
      ],
      "metadata": {
        "id": "EJnxpONAa_tj"
      },
      "execution_count": 15,
      "outputs": []
    },
    {
      "cell_type": "code",
      "source": [
        "from tensorflow.keras.layers import Dropout\n",
        "from tensorflow.keras.layers import MaxPooling2D\n",
        "model2 = Sequential()\n",
        "model2.add(Conv2D(64, (4,4), activation='relu', padding='same',input_shape=(32,32,3)))\n",
        "model2.add(Dropout(0.2))\n",
        "model2.add(Conv2D(64, (2,2), activation='relu', padding='same',strides=(2,2)))\n",
        "model2.add(Dropout(0.2))\n",
        "model2.add(Conv2D(32, (3,3), activation='relu', padding='same'))\n",
        "model2.add(Dropout(0.2))\n",
        "model2.add(Conv2D(32, (3,3), activation='relu', padding='same'))\n",
        "model2.add(MaxPooling2D(pool_size=(2,2), strides=2))\n",
        "model2.add(Dropout(0.2))\n",
        "model2.add(Flatten())\n",
        "model2.add(Dense(64, activation='relu'))\n",
        "model2.add(Dropout(0.2))\n",
        "model2.add(Dense(64, activation='relu'))\n",
        "model2.add(Dropout(0.2))\n",
        "model2.add(Dense(10, activation='softmax'))\n",
        "\n",
        "model2.compile(loss='categorical_crossentropy', optimizer='adam', metrics=['accuracy'])"
      ],
      "metadata": {
        "id": "QokjgDTqbnkW"
      },
      "execution_count": 18,
      "outputs": []
    },
    {
      "cell_type": "code",
      "source": [
        "history2 = model2.fit(train_images, train_labels, validation_data = (test_images, test_labels), epochs=EPOCHS,\n",
        "                    batch_size=BATCH_SIZE, verbose=2, shuffle=True)"
      ],
      "metadata": {
        "colab": {
          "base_uri": "https://localhost:8080/"
        },
        "id": "ZngQBl3BciOM",
        "outputId": "451d6d9b-d944-4431-ac9b-c78e4a087599"
      },
      "execution_count": 19,
      "outputs": [
        {
          "output_type": "stream",
          "name": "stdout",
          "text": [
            "Epoch 1/128\n",
            "1563/1563 - 10s - loss: 1.6891 - accuracy: 0.3783 - val_loss: 1.3088 - val_accuracy: 0.5314 - 10s/epoch - 6ms/step\n",
            "Epoch 2/128\n",
            "1563/1563 - 8s - loss: 1.3553 - accuracy: 0.5161 - val_loss: 1.1707 - val_accuracy: 0.5953 - 8s/epoch - 5ms/step\n",
            "Epoch 3/128\n",
            "1563/1563 - 8s - loss: 1.2152 - accuracy: 0.5711 - val_loss: 1.0572 - val_accuracy: 0.6322 - 8s/epoch - 5ms/step\n",
            "Epoch 4/128\n",
            "1563/1563 - 8s - loss: 1.1232 - accuracy: 0.6043 - val_loss: 0.9780 - val_accuracy: 0.6623 - 8s/epoch - 5ms/step\n",
            "Epoch 5/128\n",
            "1563/1563 - 8s - loss: 1.0549 - accuracy: 0.6312 - val_loss: 0.9654 - val_accuracy: 0.6689 - 8s/epoch - 5ms/step\n",
            "Epoch 6/128\n",
            "1563/1563 - 8s - loss: 1.0129 - accuracy: 0.6485 - val_loss: 0.9000 - val_accuracy: 0.6894 - 8s/epoch - 5ms/step\n",
            "Epoch 7/128\n",
            "1563/1563 - 8s - loss: 0.9683 - accuracy: 0.6600 - val_loss: 0.8640 - val_accuracy: 0.7075 - 8s/epoch - 5ms/step\n",
            "Epoch 8/128\n",
            "1563/1563 - 10s - loss: 0.9372 - accuracy: 0.6737 - val_loss: 0.8700 - val_accuracy: 0.7080 - 10s/epoch - 6ms/step\n",
            "Epoch 9/128\n",
            "1563/1563 - 8s - loss: 0.9174 - accuracy: 0.6798 - val_loss: 0.8293 - val_accuracy: 0.7214 - 8s/epoch - 5ms/step\n",
            "Epoch 10/128\n",
            "1563/1563 - 8s - loss: 0.8956 - accuracy: 0.6910 - val_loss: 0.8277 - val_accuracy: 0.7216 - 8s/epoch - 5ms/step\n",
            "Epoch 11/128\n",
            "1563/1563 - 8s - loss: 0.8776 - accuracy: 0.6962 - val_loss: 0.8264 - val_accuracy: 0.7226 - 8s/epoch - 5ms/step\n",
            "Epoch 12/128\n",
            "1563/1563 - 8s - loss: 0.8685 - accuracy: 0.7029 - val_loss: 0.8018 - val_accuracy: 0.7284 - 8s/epoch - 5ms/step\n",
            "Epoch 13/128\n",
            "1563/1563 - 8s - loss: 0.8502 - accuracy: 0.7055 - val_loss: 0.8101 - val_accuracy: 0.7231 - 8s/epoch - 5ms/step\n",
            "Epoch 14/128\n",
            "1563/1563 - 8s - loss: 0.8423 - accuracy: 0.7101 - val_loss: 0.7796 - val_accuracy: 0.7369 - 8s/epoch - 5ms/step\n",
            "Epoch 15/128\n",
            "1563/1563 - 8s - loss: 0.8279 - accuracy: 0.7144 - val_loss: 0.7777 - val_accuracy: 0.7359 - 8s/epoch - 5ms/step\n",
            "Epoch 16/128\n",
            "1563/1563 - 8s - loss: 0.8107 - accuracy: 0.7207 - val_loss: 0.7964 - val_accuracy: 0.7315 - 8s/epoch - 5ms/step\n",
            "Epoch 17/128\n",
            "1563/1563 - 8s - loss: 0.8109 - accuracy: 0.7205 - val_loss: 0.7749 - val_accuracy: 0.7384 - 8s/epoch - 5ms/step\n",
            "Epoch 18/128\n",
            "1563/1563 - 8s - loss: 0.7916 - accuracy: 0.7270 - val_loss: 0.7591 - val_accuracy: 0.7471 - 8s/epoch - 5ms/step\n",
            "Epoch 19/128\n",
            "1563/1563 - 8s - loss: 0.7899 - accuracy: 0.7294 - val_loss: 0.7438 - val_accuracy: 0.7448 - 8s/epoch - 5ms/step\n",
            "Epoch 20/128\n",
            "1563/1563 - 8s - loss: 0.7828 - accuracy: 0.7329 - val_loss: 0.7668 - val_accuracy: 0.7382 - 8s/epoch - 5ms/step\n",
            "Epoch 21/128\n",
            "1563/1563 - 8s - loss: 0.7741 - accuracy: 0.7373 - val_loss: 0.7569 - val_accuracy: 0.7482 - 8s/epoch - 5ms/step\n",
            "Epoch 22/128\n",
            "1563/1563 - 8s - loss: 0.7648 - accuracy: 0.7377 - val_loss: 0.7424 - val_accuracy: 0.7488 - 8s/epoch - 5ms/step\n",
            "Epoch 23/128\n",
            "1563/1563 - 8s - loss: 0.7571 - accuracy: 0.7408 - val_loss: 0.7874 - val_accuracy: 0.7340 - 8s/epoch - 5ms/step\n",
            "Epoch 24/128\n",
            "1563/1563 - 8s - loss: 0.7554 - accuracy: 0.7426 - val_loss: 0.7529 - val_accuracy: 0.7484 - 8s/epoch - 5ms/step\n",
            "Epoch 25/128\n",
            "1563/1563 - 8s - loss: 0.7503 - accuracy: 0.7423 - val_loss: 0.7188 - val_accuracy: 0.7556 - 8s/epoch - 5ms/step\n",
            "Epoch 26/128\n",
            "1563/1563 - 8s - loss: 0.7444 - accuracy: 0.7444 - val_loss: 0.7410 - val_accuracy: 0.7467 - 8s/epoch - 5ms/step\n",
            "Epoch 27/128\n",
            "1563/1563 - 8s - loss: 0.7455 - accuracy: 0.7459 - val_loss: 0.7268 - val_accuracy: 0.7519 - 8s/epoch - 5ms/step\n",
            "Epoch 28/128\n",
            "1563/1563 - 8s - loss: 0.7413 - accuracy: 0.7455 - val_loss: 0.7367 - val_accuracy: 0.7516 - 8s/epoch - 5ms/step\n",
            "Epoch 29/128\n",
            "1563/1563 - 8s - loss: 0.7322 - accuracy: 0.7509 - val_loss: 0.7420 - val_accuracy: 0.7449 - 8s/epoch - 5ms/step\n",
            "Epoch 30/128\n",
            "1563/1563 - 8s - loss: 0.7319 - accuracy: 0.7510 - val_loss: 0.7603 - val_accuracy: 0.7421 - 8s/epoch - 5ms/step\n",
            "Epoch 31/128\n",
            "1563/1563 - 10s - loss: 0.7289 - accuracy: 0.7496 - val_loss: 0.7330 - val_accuracy: 0.7495 - 10s/epoch - 6ms/step\n",
            "Epoch 32/128\n",
            "1563/1563 - 8s - loss: 0.7273 - accuracy: 0.7515 - val_loss: 0.7330 - val_accuracy: 0.7525 - 8s/epoch - 5ms/step\n",
            "Epoch 33/128\n",
            "1563/1563 - 8s - loss: 0.7202 - accuracy: 0.7535 - val_loss: 0.7318 - val_accuracy: 0.7549 - 8s/epoch - 5ms/step\n",
            "Epoch 34/128\n",
            "1563/1563 - 8s - loss: 0.7086 - accuracy: 0.7600 - val_loss: 0.7339 - val_accuracy: 0.7542 - 8s/epoch - 5ms/step\n",
            "Epoch 35/128\n",
            "1563/1563 - 8s - loss: 0.7110 - accuracy: 0.7590 - val_loss: 0.7512 - val_accuracy: 0.7485 - 8s/epoch - 5ms/step\n",
            "Epoch 36/128\n",
            "1563/1563 - 8s - loss: 0.7172 - accuracy: 0.7571 - val_loss: 0.7590 - val_accuracy: 0.7492 - 8s/epoch - 5ms/step\n",
            "Epoch 37/128\n",
            "1563/1563 - 8s - loss: 0.7026 - accuracy: 0.7599 - val_loss: 0.7284 - val_accuracy: 0.7578 - 8s/epoch - 5ms/step\n",
            "Epoch 38/128\n",
            "1563/1563 - 8s - loss: 0.6988 - accuracy: 0.7609 - val_loss: 0.7268 - val_accuracy: 0.7567 - 8s/epoch - 5ms/step\n",
            "Epoch 39/128\n",
            "1563/1563 - 8s - loss: 0.6956 - accuracy: 0.7644 - val_loss: 0.7198 - val_accuracy: 0.7563 - 8s/epoch - 5ms/step\n",
            "Epoch 40/128\n",
            "1563/1563 - 8s - loss: 0.7046 - accuracy: 0.7618 - val_loss: 0.7124 - val_accuracy: 0.7595 - 8s/epoch - 5ms/step\n",
            "Epoch 41/128\n",
            "1563/1563 - 8s - loss: 0.6969 - accuracy: 0.7658 - val_loss: 0.7308 - val_accuracy: 0.7562 - 8s/epoch - 5ms/step\n",
            "Epoch 42/128\n",
            "1563/1563 - 8s - loss: 0.6973 - accuracy: 0.7644 - val_loss: 0.7137 - val_accuracy: 0.7587 - 8s/epoch - 5ms/step\n",
            "Epoch 43/128\n",
            "1563/1563 - 8s - loss: 0.6891 - accuracy: 0.7649 - val_loss: 0.7254 - val_accuracy: 0.7552 - 8s/epoch - 5ms/step\n",
            "Epoch 44/128\n",
            "1563/1563 - 8s - loss: 0.6934 - accuracy: 0.7640 - val_loss: 0.7229 - val_accuracy: 0.7612 - 8s/epoch - 5ms/step\n",
            "Epoch 45/128\n",
            "1563/1563 - 8s - loss: 0.6843 - accuracy: 0.7667 - val_loss: 0.7248 - val_accuracy: 0.7578 - 8s/epoch - 5ms/step\n",
            "Epoch 46/128\n",
            "1563/1563 - 8s - loss: 0.6808 - accuracy: 0.7712 - val_loss: 0.7278 - val_accuracy: 0.7584 - 8s/epoch - 5ms/step\n",
            "Epoch 47/128\n",
            "1563/1563 - 8s - loss: 0.6826 - accuracy: 0.7675 - val_loss: 0.7217 - val_accuracy: 0.7562 - 8s/epoch - 5ms/step\n",
            "Epoch 48/128\n",
            "1563/1563 - 8s - loss: 0.6848 - accuracy: 0.7677 - val_loss: 0.7182 - val_accuracy: 0.7592 - 8s/epoch - 5ms/step\n",
            "Epoch 49/128\n",
            "1563/1563 - 8s - loss: 0.6848 - accuracy: 0.7694 - val_loss: 0.7091 - val_accuracy: 0.7674 - 8s/epoch - 5ms/step\n",
            "Epoch 50/128\n",
            "1563/1563 - 8s - loss: 0.6778 - accuracy: 0.7705 - val_loss: 0.7172 - val_accuracy: 0.7622 - 8s/epoch - 5ms/step\n",
            "Epoch 51/128\n",
            "1563/1563 - 8s - loss: 0.6749 - accuracy: 0.7716 - val_loss: 0.7112 - val_accuracy: 0.7661 - 8s/epoch - 5ms/step\n",
            "Epoch 52/128\n",
            "1563/1563 - 8s - loss: 0.6746 - accuracy: 0.7725 - val_loss: 0.7169 - val_accuracy: 0.7620 - 8s/epoch - 5ms/step\n",
            "Epoch 53/128\n",
            "1563/1563 - 8s - loss: 0.6711 - accuracy: 0.7735 - val_loss: 0.7190 - val_accuracy: 0.7608 - 8s/epoch - 5ms/step\n",
            "Epoch 54/128\n",
            "1563/1563 - 8s - loss: 0.6804 - accuracy: 0.7691 - val_loss: 0.7484 - val_accuracy: 0.7569 - 8s/epoch - 5ms/step\n",
            "Epoch 55/128\n",
            "1563/1563 - 8s - loss: 0.6783 - accuracy: 0.7711 - val_loss: 0.7381 - val_accuracy: 0.7555 - 8s/epoch - 5ms/step\n",
            "Epoch 56/128\n",
            "1563/1563 - 9s - loss: 0.6741 - accuracy: 0.7714 - val_loss: 0.7105 - val_accuracy: 0.7653 - 9s/epoch - 6ms/step\n",
            "Epoch 57/128\n",
            "1563/1563 - 8s - loss: 0.6691 - accuracy: 0.7748 - val_loss: 0.7193 - val_accuracy: 0.7622 - 8s/epoch - 5ms/step\n",
            "Epoch 58/128\n",
            "1563/1563 - 8s - loss: 0.6766 - accuracy: 0.7717 - val_loss: 0.7330 - val_accuracy: 0.7562 - 8s/epoch - 5ms/step\n",
            "Epoch 59/128\n",
            "1563/1563 - 8s - loss: 0.6652 - accuracy: 0.7768 - val_loss: 0.7146 - val_accuracy: 0.7624 - 8s/epoch - 5ms/step\n",
            "Epoch 60/128\n",
            "1563/1563 - 8s - loss: 0.6681 - accuracy: 0.7736 - val_loss: 0.7064 - val_accuracy: 0.7683 - 8s/epoch - 5ms/step\n",
            "Epoch 61/128\n",
            "1563/1563 - 8s - loss: 0.6736 - accuracy: 0.7742 - val_loss: 0.7116 - val_accuracy: 0.7687 - 8s/epoch - 5ms/step\n",
            "Epoch 62/128\n",
            "1563/1563 - 8s - loss: 0.6625 - accuracy: 0.7768 - val_loss: 0.7175 - val_accuracy: 0.7626 - 8s/epoch - 5ms/step\n",
            "Epoch 63/128\n",
            "1563/1563 - 8s - loss: 0.6654 - accuracy: 0.7761 - val_loss: 0.7433 - val_accuracy: 0.7537 - 8s/epoch - 5ms/step\n",
            "Epoch 64/128\n",
            "1563/1563 - 8s - loss: 0.6571 - accuracy: 0.7808 - val_loss: 0.7246 - val_accuracy: 0.7647 - 8s/epoch - 5ms/step\n",
            "Epoch 65/128\n",
            "1563/1563 - 8s - loss: 0.6577 - accuracy: 0.7787 - val_loss: 0.7052 - val_accuracy: 0.7706 - 8s/epoch - 5ms/step\n",
            "Epoch 66/128\n",
            "1563/1563 - 8s - loss: 0.6613 - accuracy: 0.7793 - val_loss: 0.7217 - val_accuracy: 0.7623 - 8s/epoch - 5ms/step\n",
            "Epoch 67/128\n",
            "1563/1563 - 8s - loss: 0.6596 - accuracy: 0.7782 - val_loss: 0.7361 - val_accuracy: 0.7582 - 8s/epoch - 5ms/step\n",
            "Epoch 68/128\n",
            "1563/1563 - 8s - loss: 0.6602 - accuracy: 0.7800 - val_loss: 0.7410 - val_accuracy: 0.7609 - 8s/epoch - 5ms/step\n",
            "Epoch 69/128\n",
            "1563/1563 - 8s - loss: 0.6575 - accuracy: 0.7795 - val_loss: 0.6925 - val_accuracy: 0.7729 - 8s/epoch - 5ms/step\n",
            "Epoch 70/128\n",
            "1563/1563 - 8s - loss: 0.6623 - accuracy: 0.7790 - val_loss: 0.7198 - val_accuracy: 0.7632 - 8s/epoch - 5ms/step\n",
            "Epoch 71/128\n",
            "1563/1563 - 8s - loss: 0.6525 - accuracy: 0.7806 - val_loss: 0.7106 - val_accuracy: 0.7705 - 8s/epoch - 5ms/step\n",
            "Epoch 72/128\n",
            "1563/1563 - 8s - loss: 0.6511 - accuracy: 0.7838 - val_loss: 0.7245 - val_accuracy: 0.7628 - 8s/epoch - 5ms/step\n",
            "Epoch 73/128\n",
            "1563/1563 - 8s - loss: 0.6543 - accuracy: 0.7796 - val_loss: 0.7207 - val_accuracy: 0.7648 - 8s/epoch - 5ms/step\n",
            "Epoch 74/128\n",
            "1563/1563 - 8s - loss: 0.6506 - accuracy: 0.7836 - val_loss: 0.7090 - val_accuracy: 0.7675 - 8s/epoch - 5ms/step\n",
            "Epoch 75/128\n",
            "1563/1563 - 8s - loss: 0.6564 - accuracy: 0.7833 - val_loss: 0.7230 - val_accuracy: 0.7611 - 8s/epoch - 5ms/step\n",
            "Epoch 76/128\n",
            "1563/1563 - 8s - loss: 0.6461 - accuracy: 0.7838 - val_loss: 0.6914 - val_accuracy: 0.7778 - 8s/epoch - 5ms/step\n",
            "Epoch 77/128\n",
            "1563/1563 - 8s - loss: 0.6422 - accuracy: 0.7851 - val_loss: 0.7261 - val_accuracy: 0.7664 - 8s/epoch - 5ms/step\n",
            "Epoch 78/128\n",
            "1563/1563 - 8s - loss: 0.6545 - accuracy: 0.7841 - val_loss: 0.7243 - val_accuracy: 0.7608 - 8s/epoch - 5ms/step\n",
            "Epoch 79/128\n",
            "1563/1563 - 8s - loss: 0.6522 - accuracy: 0.7846 - val_loss: 0.7190 - val_accuracy: 0.7655 - 8s/epoch - 5ms/step\n",
            "Epoch 80/128\n",
            "1563/1563 - 9s - loss: 0.6441 - accuracy: 0.7836 - val_loss: 0.7146 - val_accuracy: 0.7667 - 9s/epoch - 6ms/step\n",
            "Epoch 81/128\n",
            "1563/1563 - 8s - loss: 0.6388 - accuracy: 0.7889 - val_loss: 0.7173 - val_accuracy: 0.7629 - 8s/epoch - 5ms/step\n",
            "Epoch 82/128\n",
            "1563/1563 - 8s - loss: 0.6470 - accuracy: 0.7849 - val_loss: 0.6941 - val_accuracy: 0.7805 - 8s/epoch - 5ms/step\n",
            "Epoch 83/128\n",
            "1563/1563 - 8s - loss: 0.6480 - accuracy: 0.7867 - val_loss: 0.6989 - val_accuracy: 0.7704 - 8s/epoch - 5ms/step\n",
            "Epoch 84/128\n",
            "1563/1563 - 8s - loss: 0.6411 - accuracy: 0.7859 - val_loss: 0.7084 - val_accuracy: 0.7734 - 8s/epoch - 5ms/step\n",
            "Epoch 85/128\n",
            "1563/1563 - 8s - loss: 0.6486 - accuracy: 0.7831 - val_loss: 0.7063 - val_accuracy: 0.7698 - 8s/epoch - 5ms/step\n",
            "Epoch 86/128\n",
            "1563/1563 - 8s - loss: 0.6435 - accuracy: 0.7865 - val_loss: 0.7030 - val_accuracy: 0.7743 - 8s/epoch - 5ms/step\n",
            "Epoch 87/128\n",
            "1563/1563 - 8s - loss: 0.6411 - accuracy: 0.7888 - val_loss: 0.6953 - val_accuracy: 0.7730 - 8s/epoch - 5ms/step\n",
            "Epoch 88/128\n",
            "1563/1563 - 8s - loss: 0.6466 - accuracy: 0.7860 - val_loss: 0.7006 - val_accuracy: 0.7684 - 8s/epoch - 5ms/step\n",
            "Epoch 89/128\n",
            "1563/1563 - 8s - loss: 0.6417 - accuracy: 0.7855 - val_loss: 0.6925 - val_accuracy: 0.7719 - 8s/epoch - 5ms/step\n",
            "Epoch 90/128\n",
            "1563/1563 - 8s - loss: 0.6368 - accuracy: 0.7907 - val_loss: 0.7081 - val_accuracy: 0.7720 - 8s/epoch - 5ms/step\n",
            "Epoch 91/128\n",
            "1563/1563 - 8s - loss: 0.6439 - accuracy: 0.7872 - val_loss: 0.7118 - val_accuracy: 0.7667 - 8s/epoch - 5ms/step\n",
            "Epoch 92/128\n",
            "1563/1563 - 8s - loss: 0.6356 - accuracy: 0.7888 - val_loss: 0.7066 - val_accuracy: 0.7725 - 8s/epoch - 5ms/step\n",
            "Epoch 93/128\n",
            "1563/1563 - 8s - loss: 0.6437 - accuracy: 0.7849 - val_loss: 0.7192 - val_accuracy: 0.7622 - 8s/epoch - 5ms/step\n",
            "Epoch 94/128\n",
            "1563/1563 - 8s - loss: 0.6453 - accuracy: 0.7883 - val_loss: 0.6955 - val_accuracy: 0.7738 - 8s/epoch - 5ms/step\n",
            "Epoch 95/128\n",
            "1563/1563 - 8s - loss: 0.6404 - accuracy: 0.7878 - val_loss: 0.6905 - val_accuracy: 0.7725 - 8s/epoch - 5ms/step\n",
            "Epoch 96/128\n",
            "1563/1563 - 8s - loss: 0.6363 - accuracy: 0.7889 - val_loss: 0.6996 - val_accuracy: 0.7709 - 8s/epoch - 5ms/step\n",
            "Epoch 97/128\n",
            "1563/1563 - 8s - loss: 0.6369 - accuracy: 0.7888 - val_loss: 0.7243 - val_accuracy: 0.7644 - 8s/epoch - 5ms/step\n",
            "Epoch 98/128\n",
            "1563/1563 - 8s - loss: 0.6357 - accuracy: 0.7892 - val_loss: 0.7142 - val_accuracy: 0.7676 - 8s/epoch - 5ms/step\n",
            "Epoch 99/128\n",
            "1563/1563 - 8s - loss: 0.6465 - accuracy: 0.7860 - val_loss: 0.7312 - val_accuracy: 0.7631 - 8s/epoch - 5ms/step\n",
            "Epoch 100/128\n",
            "1563/1563 - 8s - loss: 0.6384 - accuracy: 0.7891 - val_loss: 0.7129 - val_accuracy: 0.7673 - 8s/epoch - 5ms/step\n",
            "Epoch 101/128\n",
            "1563/1563 - 8s - loss: 0.6351 - accuracy: 0.7916 - val_loss: 0.7111 - val_accuracy: 0.7706 - 8s/epoch - 5ms/step\n",
            "Epoch 102/128\n",
            "1563/1563 - 8s - loss: 0.6398 - accuracy: 0.7891 - val_loss: 0.7151 - val_accuracy: 0.7705 - 8s/epoch - 5ms/step\n",
            "Epoch 103/128\n",
            "1563/1563 - 8s - loss: 0.6392 - accuracy: 0.7904 - val_loss: 0.7139 - val_accuracy: 0.7715 - 8s/epoch - 5ms/step\n",
            "Epoch 104/128\n",
            "1563/1563 - 8s - loss: 0.6381 - accuracy: 0.7888 - val_loss: 0.7124 - val_accuracy: 0.7627 - 8s/epoch - 5ms/step\n",
            "Epoch 105/128\n",
            "1563/1563 - 10s - loss: 0.6317 - accuracy: 0.7919 - val_loss: 0.7144 - val_accuracy: 0.7721 - 10s/epoch - 6ms/step\n",
            "Epoch 106/128\n",
            "1563/1563 - 8s - loss: 0.6394 - accuracy: 0.7892 - val_loss: 0.7125 - val_accuracy: 0.7699 - 8s/epoch - 5ms/step\n",
            "Epoch 107/128\n",
            "1563/1563 - 8s - loss: 0.6333 - accuracy: 0.7892 - val_loss: 0.7182 - val_accuracy: 0.7717 - 8s/epoch - 5ms/step\n",
            "Epoch 108/128\n",
            "1563/1563 - 8s - loss: 0.6366 - accuracy: 0.7910 - val_loss: 0.7041 - val_accuracy: 0.7684 - 8s/epoch - 5ms/step\n",
            "Epoch 109/128\n",
            "1563/1563 - 8s - loss: 0.6317 - accuracy: 0.7916 - val_loss: 0.7108 - val_accuracy: 0.7683 - 8s/epoch - 5ms/step\n",
            "Epoch 110/128\n",
            "1563/1563 - 8s - loss: 0.6355 - accuracy: 0.7894 - val_loss: 0.7112 - val_accuracy: 0.7698 - 8s/epoch - 5ms/step\n",
            "Epoch 111/128\n",
            "1563/1563 - 8s - loss: 0.6389 - accuracy: 0.7884 - val_loss: 0.7278 - val_accuracy: 0.7582 - 8s/epoch - 5ms/step\n",
            "Epoch 112/128\n",
            "1563/1563 - 8s - loss: 0.6338 - accuracy: 0.7931 - val_loss: 0.7181 - val_accuracy: 0.7666 - 8s/epoch - 5ms/step\n",
            "Epoch 113/128\n",
            "1563/1563 - 8s - loss: 0.6354 - accuracy: 0.7909 - val_loss: 0.6985 - val_accuracy: 0.7705 - 8s/epoch - 5ms/step\n",
            "Epoch 114/128\n",
            "1563/1563 - 8s - loss: 0.6279 - accuracy: 0.7941 - val_loss: 0.7046 - val_accuracy: 0.7718 - 8s/epoch - 5ms/step\n",
            "Epoch 115/128\n",
            "1563/1563 - 8s - loss: 0.6398 - accuracy: 0.7899 - val_loss: 0.7266 - val_accuracy: 0.7655 - 8s/epoch - 5ms/step\n",
            "Epoch 116/128\n",
            "1563/1563 - 8s - loss: 0.6332 - accuracy: 0.7924 - val_loss: 0.7121 - val_accuracy: 0.7720 - 8s/epoch - 5ms/step\n",
            "Epoch 117/128\n",
            "1563/1563 - 8s - loss: 0.6307 - accuracy: 0.7914 - val_loss: 0.7001 - val_accuracy: 0.7769 - 8s/epoch - 5ms/step\n",
            "Epoch 118/128\n",
            "1563/1563 - 8s - loss: 0.6323 - accuracy: 0.7934 - val_loss: 0.6921 - val_accuracy: 0.7743 - 8s/epoch - 5ms/step\n",
            "Epoch 119/128\n",
            "1563/1563 - 8s - loss: 0.6360 - accuracy: 0.7901 - val_loss: 0.7137 - val_accuracy: 0.7693 - 8s/epoch - 5ms/step\n",
            "Epoch 120/128\n",
            "1563/1563 - 8s - loss: 0.6253 - accuracy: 0.7953 - val_loss: 0.7049 - val_accuracy: 0.7731 - 8s/epoch - 5ms/step\n",
            "Epoch 121/128\n",
            "1563/1563 - 8s - loss: 0.6289 - accuracy: 0.7963 - val_loss: 0.7110 - val_accuracy: 0.7740 - 8s/epoch - 5ms/step\n",
            "Epoch 122/128\n",
            "1563/1563 - 8s - loss: 0.6289 - accuracy: 0.7939 - val_loss: 0.7097 - val_accuracy: 0.7713 - 8s/epoch - 5ms/step\n",
            "Epoch 123/128\n",
            "1563/1563 - 8s - loss: 0.6298 - accuracy: 0.7961 - val_loss: 0.7100 - val_accuracy: 0.7738 - 8s/epoch - 5ms/step\n",
            "Epoch 124/128\n",
            "1563/1563 - 8s - loss: 0.6232 - accuracy: 0.7945 - val_loss: 0.7138 - val_accuracy: 0.7742 - 8s/epoch - 5ms/step\n",
            "Epoch 125/128\n",
            "1563/1563 - 8s - loss: 0.6350 - accuracy: 0.7908 - val_loss: 0.6922 - val_accuracy: 0.7753 - 8s/epoch - 5ms/step\n",
            "Epoch 126/128\n",
            "1563/1563 - 8s - loss: 0.6271 - accuracy: 0.7945 - val_loss: 0.7154 - val_accuracy: 0.7657 - 8s/epoch - 5ms/step\n",
            "Epoch 127/128\n",
            "1563/1563 - 8s - loss: 0.6235 - accuracy: 0.7937 - val_loss: 0.7072 - val_accuracy: 0.7721 - 8s/epoch - 5ms/step\n",
            "Epoch 128/128\n",
            "1563/1563 - 8s - loss: 0.6337 - accuracy: 0.7925 - val_loss: 0.7051 - val_accuracy: 0.7729 - 8s/epoch - 5ms/step\n"
          ]
        }
      ]
    },
    {
      "cell_type": "code",
      "source": [],
      "metadata": {
        "id": "T9JrnSp8eVfP"
      },
      "execution_count": null,
      "outputs": []
    }
  ]
}