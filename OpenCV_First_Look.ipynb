{
  "nbformat": 4,
  "nbformat_minor": 0,
  "metadata": {
    "colab": {
      "name": "OpenCV First Look.ipynb",
      "provenance": []
    },
    "kernelspec": {
      "name": "python3",
      "display_name": "Python 3"
    },
    "language_info": {
      "name": "python"
    }
  },
  "cells": [
    {
      "cell_type": "code",
      "source": [
        "### Shape detection"
      ],
      "metadata": {
        "id": "Ai18yVjTuZhS"
      },
      "execution_count": 38,
      "outputs": []
    },
    {
      "cell_type": "code",
      "execution_count": 1,
      "metadata": {
        "id": "P0Y0_MaloWl7"
      },
      "outputs": [],
      "source": [
        "import numpy as np\n",
        "import cv2"
      ]
    },
    {
      "cell_type": "code",
      "source": [
        "image = cv2.imread('shapes.png')"
      ],
      "metadata": {
        "id": "shozubmmoZ7V"
      },
      "execution_count": 28,
      "outputs": []
    },
    {
      "cell_type": "code",
      "source": [
        "gray_image = cv2.cvtColor(image, cv2.COLOR_BGR2GRAY)"
      ],
      "metadata": {
        "id": "-JRYd2G7ofv8"
      },
      "execution_count": 29,
      "outputs": []
    },
    {
      "cell_type": "code",
      "source": [
        "ret, thresh = cv2.threshold(gray_image, 127, 255, 1)"
      ],
      "metadata": {
        "id": "7RM4WunJsFMo"
      },
      "execution_count": 30,
      "outputs": []
    },
    {
      "cell_type": "code",
      "source": [
        "# finding contours\n",
        "contours,h = cv2.findContours(thresh,1,2)"
      ],
      "metadata": {
        "id": "fonFYTjfohiB"
      },
      "execution_count": 31,
      "outputs": []
    },
    {
      "cell_type": "code",
      "source": [
        "for cnt in contours:\n",
        "  approx = cv2.approxPolyDP(cnt,0.01*cv2.arcLength(cnt,True),True)\n",
        "  print(len(approx))\n",
        "  if len(approx) == 3:\n",
        "    print(\"triangle\")\n",
        "    cv2.drawContours(image,[cnt],0,(0,255,0),-1)\n",
        "  elif len(approx) == 4:\n",
        "    print(\"square\")\n",
        "    cv2.drawContours(image,[cnt],0,(0,255,0),-1)\n",
        "  elif len(approx) > 15:\n",
        "    print(\"circle\")\n",
        "    cv2.drawContours(image,[cnt],0,(0,255,0),-1)"
      ],
      "metadata": {
        "colab": {
          "base_uri": "https://localhost:8080/"
        },
        "id": "5R3YVaMJplsX",
        "outputId": "bba4f185-0b69-44e5-bcbe-c41b07905d77"
      },
      "execution_count": 32,
      "outputs": [
        {
          "output_type": "stream",
          "name": "stdout",
          "text": [
            "16\n",
            "circle\n",
            "4\n",
            "square\n",
            "14\n",
            "4\n",
            "square\n",
            "10\n",
            "8\n"
          ]
        }
      ]
    },
    {
      "cell_type": "code",
      "source": [
        "from google.colab.patches import cv2_imshow"
      ],
      "metadata": {
        "id": "vGUi6JP0pt0p"
      },
      "execution_count": 19,
      "outputs": []
    },
    {
      "cell_type": "code",
      "source": [
        "cv2_imshow(image)"
      ],
      "metadata": {
        "colab": {
          "base_uri": "https://localhost:8080/",
          "height": 529
        },
        "id": "f1uO02M9pycb",
        "outputId": "fdb92a5b-65aa-419d-cf07-e8037a7b4eb9"
      },
      "execution_count": 34,
      "outputs": [
        {
          "output_type": "display_data",
          "data": {
            "text/plain": [
              "<PIL.Image.Image image mode=RGB size=512x512 at 0x7FA5848E9E90>"
            ],
            "image/png": "[encoded data removed]"
          },
          "metadata": {}
        }
      ]
    },
    {
      "cell_type": "code",
      "source": [
        "cv2.waitKey(0)"
      ],
      "metadata": {
        "colab": {
          "base_uri": "https://localhost:8080/"
        },
        "id": "N0DLcbmhqSHN",
        "outputId": "7b8eefe7-4d7c-448d-e31a-f277b926e323"
      },
      "execution_count": 35,
      "outputs": [
        {
          "output_type": "execute_result",
          "data": {
            "text/plain": [
              "-1"
            ]
          },
          "metadata": {},
          "execution_count": 35
        }
      ]
    },
    {
      "cell_type": "code",
      "source": [
        "cv2.destroyAllWindows()"
      ],
      "metadata": {
        "id": "7XCkMMeWt9xe"
      },
      "execution_count": 36,
      "outputs": []
    },
    {
      "cell_type": "code",
      "source": [
        ""
      ],
      "metadata": {
        "id": "05tvZI8cuQAa"
      },
      "execution_count": null,
      "outputs": []
    }
  ]
}